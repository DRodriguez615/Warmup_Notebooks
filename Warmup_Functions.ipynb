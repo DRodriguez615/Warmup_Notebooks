{
  "nbformat": 4,
  "nbformat_minor": 0,
  "metadata": {
    "colab": {
      "name": "Warmup - Functions.ipynb",
      "provenance": [],
      "include_colab_link": true
    },
    "kernelspec": {
      "name": "python3",
      "display_name": "Python 3"
    }
  },
  "cells": [
    {
      "cell_type": "markdown",
      "metadata": {
        "id": "view-in-github",
        "colab_type": "text"
      },
      "source": [
        "<a href=\"https://colab.research.google.com/github/bundickm/Warmup_Notebooks/blob/master/Warmup_Functions.ipynb\" target=\"_parent\"><img src=\"https://colab.research.google.com/assets/colab-badge.svg\" alt=\"Open In Colab\"/></a>"
      ]
    },
    {
      "cell_type": "markdown",
      "metadata": {
        "id": "Q01dn0uZyS9Y",
        "colab_type": "text"
      },
      "source": [
        "> *Success is neither magical nor mysterious. Success is the natural consequence of consistently applying the basic fundamentals.*\n",
        "-Jim Rohn\n",
        "\n",
        "Pre-lecture warm-ups are all about setting you up for success - sometimes that means code challenges, sometimes it means discussing interview questions. Today it means working on fundamentals. \n",
        "\n",
        "Read through the lecture notebook with a focus on understanding. At the end of the sections are code challenges for you to practice and reinforce what you read about. After lecture ends, a team lead will post a solution notebook (with explanations) for those exercises. \n",
        "\n",
        "Should you finish early, there is additional content at the bottom to explore. If you don't complete the notebook within the hour, don't sweat it, this notebook is meant for you to build up your knowledge and skills - you can always continue working on it after lecture or when you complete the assignment."
      ]
    },
    {
      "cell_type": "markdown",
      "metadata": {
        "id": "OUS0QCf2whGA",
        "colab_type": "text"
      },
      "source": [
        "# Functions\n"
      ]
    },
    {
      "cell_type": "markdown",
      "metadata": {
        "id": "3Gc4kbxYOuHE",
        "colab_type": "text"
      },
      "source": [
        "## Basics"
      ]
    },
    {
      "cell_type": "markdown",
      "metadata": {
        "id": "sWNKoOr37-kL",
        "colab_type": "text"
      },
      "source": [
        "\"Good code is DRY code.\" What does it mean? \"Don't repeat yourself\". If you find yourself copying and pasting code within a single notebook or script, you should probably stop and ask yourself if there is a cleaner, easier way to do it. The answer is likely \"yes\" - a function or a for loop.\n",
        "\n",
        "![image.png](data:image/png;base64,iVBORw0KGgoAAAANSUhEUgAAArEAAAFcCAYAAADf6ObsAAAgAElEQVR4nO2dO4skWXqw9UsiK8cpQ1CeSkYxCWsUK7FDfrSR46zGFzSkkwuNYDxRO7AwRq7TDJT+QAqkbv2BXATLWOMVstqen7HnM+J2Lu+5RUTGJfMxHmY6M+LcM+KpN06c83dFUSgAAAAAgCXxd1MXAAAAAAAgFyQWAAAAABYHEgsAAAAAiwOJBQAAAIDFgcQCAAAAwOJAYgEAAABgcSCxAAAAALA4kFgAAAAAWBxILAAAAAAsDiQWAAAAABYHEgsAAAAAiwOJBQAAAIDFgcQCAAAAwOJAYgEAAABgcSCxAAAAALA4kFgAAAAAWBxILAAAAAAsDiQWAAAAABYHEgsAAAAAiwOJBQAAAIDFgcQCAAAAwOJAYgEAAABgcSCxAAAAALA4kFgAAAAAWBxILAAAAAAsDiQWAAAAABYHEgsAAAAAiwOJBQAAAIDFgcQCAAAAwOJAYgEAAABgcSCxAAAAALA4kFgAAAAAWBxILAAAAAAsDiT2hrnbP6uvPn8j8KzWT6vJy+eU96Uq38uDuluNUz6jjV4fnXyb718eJm8fAACAWwKJvWEaKZyRxK52m6oMG0MYV6v7aSTWaqP1DokFAACYA0jsDdMImhBhnAqfxE7dRuvXZ7GtkFgAAIBpQGJvmJjErlYPai1EIBtxq85bre7V+rWO4N6r9Uv7CH79IjyC322q4+tjysiqHBluo8J6JNZM79FI76vPz2q9b6O1ueWT2mi9f2jyENtCK1NZHnOqhp6PWZ4HqzwPZdR5/9y2vVDG1ZNU53uz7HtZvAEAAK4BJPaGGV5iPeiC55mHu951k1j/vN72uJzyedvo5aGNEmvtZUus3madyxMpYxutFtpRE9m2PecR1QYAABgSJPaG8c6JbeS0i8Q+q/Xu3pzDKqRXz2stj3tu0g9NJ7Al1pteI7alAKeWL9hGVYTUjsa6Enuv7vaP6u5Jk8m9WSenPE4Zvwm0oVYGXVh3m6otNq5gE4kFAIArBIm9YS4hsbpY2UK6enqs0vO/OJYlsc2xZnp2uVPLF2yjOs+6DlXdpekEq2qKgBuRdSVWjJyKUVe7DX3Mc2UJAACAoUFib5hLTCcISmyCNHaTWHslg8tJrP7ZeudKbHA6ARILAAAwGEjsDTO6xI4VidVE7xISa0RjbYkVyuS0wyASi6wCQBjvewYjLlMIcEmQ2BsmLrHaPM16zqkeCcyV2MAc1vo8n5ga5bUf7TtzbNMin10lVv+8WYVAig4/5ZUnSWKFNqz76m6/UWvppTPmxALcJP61wK/zujC3JRrh8iCxN0zSi02ht/8zJTaUXiOxzuP4yOoEgYt0m+bwEuuUUxLrC0wnSO0Ts224oAPcIu7LsPfGNdPevGXpILG3BxJ7w6RIbL16QHPRe3lUd9bLTbmSeLffaKLnPtpq37RvI5pGee2oqJHeN+qr13IFAr0OQ0tsma/WLla6Rv12j8bKAX0ltmkje51Yux2JxALcNMHpUNr1J7a2tZ7Weudev+awNnZsicaUNGL1XD09mPV83Rjpc80dHyQWAADgCkmR2JS1rY20rO/nsjZ2TGLz19dOrCdPvyYFiQUAALhCwtMJ2jWqY2tbG2lVUcr62Dmtje1fsSZjfW1fPZ8e3WN3j7yHMDFILAAAwBUSfGcgY21rIy1hatVc1sb2SmxGGt73IIyXms2tzWE6kFgAAIArRJRY552B+NrWRlqxl1yvVGLr9O107Dm1MC5ILAAAwBUSErKalLWtQ2nNaW3suMTG00hpszvj5TTW7J4SJBYAAOAKyZNY/9rWobTmtDZ2ylbk0fW1A/Vcvz42q+VImwExJ3Z8kFgAAIArJEliE9a2DqU1p7Wxg+uM566v7ZX1hDZidYLRQGIBAACukBSJLYr42taxtOayNnZznC6YT3lp+Of+3jtrkq9frfSJxI4OEgsAAAAAiwOJBRAw1zAc99FQ+0iMR1JzZMqxMWw98sZZW+/l1hkArgsk9kbx3Yi5UZXUj4Uuvbe41N5I7LwZa2xcGnucxX77OdcGriMAMAZI7I3i7JZS7w3NzUcVxbQSC/PmWiTWBokFgKWBxN4ozU3m9TkajbHfymyEt3ordb1/sLYPXFlb98nb//nW2GuP0dYdrKNGzVaE/rdQm7dlnX27q+0Om3K7Ly8UhbBA+OujuoulWZVHaoumXtZbvOudsJ/466O6C0Znhfom5K1j1E9/oSKQx1h944xTp80iYzKjLXzjIDRGxbEROadLPt3Gk/00xd+P5nEbbcy5dZOP9/eDm3+/dpr6WgkA8wWJvVFaiX1sI0vGDUhbaNq5AcmLUOs31TKt+OPKUgrcm5VepqJob5bhdK1yRCQ2KHpWtC2aprVmoFtGQfS8wmq1c6y+kbyNftfasaznxkpDzmOsvjHHqKfNQmMypy2EcZAyRp2xETmnSz5Djiffb8xtu7xIbPDakDCuU9oJACAEEnujGBJr3CDDN7LypmMJiedG5j1eWE7FvmnZN2kjHUvEisIUq2SJDSyD0llinfUG/WU20wlIbKy+kbyN/OrImR1li+QxVt9IZY1t62jkn9MWwjhIGaOxsWGf0yWfzuMp6zfWT2LD/SCM6w7tBAAQAom9UUyJ1W+KDx4RdR8BZkusd7FoOfLSnmuWVZIrIxqYKrGhbQUHlljfPMoUiY3WN0Pc3P5My2Osvgn1gb8OPSVWXKPSP0adsRE5p0s+ncdTxm9sCIn190N86kFKOwEAhEBibxRHYrWbzlp7xGffLHtFYhMja00Zm6jhczVXzn18XR+rl3PWEjt0JDZBeKJ13N9H8xirb3zlC/VN70isFBkMjFGfxPrO6ZJP5/GU8RvrK7HhfvBLbE47AQCEQGJvFFtii8J+UUS/UdlzLztKbOd1KU0JcecDRuaQWvtpd5LYWJqxx79OW9VzGFeOZHnrE6tvgrjd7Z/Dc1kDfTlG3xh5+NosNCb7SmzCGI2NDaetOuTTfTyl/8Ziv9fY8aF+kNK6RDtB1+u/O77mQE5/x+rAChm3ARJ7o0gSWxT640H3BZOvPn+j1i+bzhJb5mu/uZ4mDM4cTme/bjMN49GlLT4dJDaaZoI8mWX2fO572StQ3yxxM+TTEoZIm47RN844FdosOCZ7SmzKGBXHRuCcLvn0Gk+Jv7HgvFWpX71/kLj94Esrt52Q2O647ayPFSQWcvtmnu2JxMKsyZ2CAPQNALSI89RnGonNAYkdu73n2Z5ILMyaOjLMkjvzg74BmD8xiV0Pvaa3/YQuus64vi5wxjrlkTqE3zeQ6+RbQ9tb10uukR0oa8oyh8E1piPtkL6m+fTXfiQWZkv7Q5rXX35A3wAshaDEfvatQzzQmt5J64z7xTO8FrFdB/tl2/iLi8Y6xZ41tJPrOuga2anrSG/aefCCSJtrv/tfuhTTTliDeg4gsQAAAFdK6nSCzmt6W5HX+PJ+/vW689YiFupgrNrikWbfOsWeNbSNuo61RnZC+zsRavtFU1+7JLZDyko6cwCJBQAAuFI6SWzn9YZ96bqPruUX+XLWIg7ImrT7ZMoa0MIa2k57jrBGdkpZjakLxh8CkXaJpJ2zpvkcQGIBAACulD4Sm/rSZptHPc/13vw8tM54QGKz14QORWIz6uRbh7koxlkjO2e96tBcYbFdImnnrGk+B5BYAACAK6WTxOau6e1Z7i1pnfGoxEbWhE6c1xurk28NbaeuxktRF1ojO3VNZWFtaHdOrO/7lLTDa5rPASQWAADgSukiscYxBh7x0cVOerRdS5W0znhAYlPWhPa9hS+vThBam9m/hravTS+6RnagrPbKME15Xh60vt0EVicI9236mubTyywSC5PCYuYZbXShi0b67lyBiMEAZZvr4yoAAJ05r5F9DWsA54DE3ijuOnHuX2uXy1P6yxhx8bcbEgsAMBfmvEY2Egs3wRTCgKR0bTckFgBa9MDD1GW5Nea+RjYSCzdBSBhib1Em7QiSvONHyrwld55WKO+2jgnljO4m455713GHm9BuMKFj0nbX6b5TjBghN+ZubZIkts/OP74x6auXuHuO9YjPfUHBXw5596CVMI7DuwiF+jm1HQB8+JZGmrpcAFOBxN4oQ0is/63Q9B0/om9wZuZt1jFSzqTdZKyXED7HdmfpvhuM75jk9u64U4y3D5xtI0Nv0abtmmO3S2hMxurlLL9jvWxh7qYT6R9x9yDPOA6NG28fprcDgI1PXpFYuHWQ2BtFnhObKj3d1hgM72XtX8vPXMA6/lZtm1/6sU4dvFE8W0LSdrhJ2g3Gc0yX9s7ZKSbWB7nTCXJ2hwmNj5x61eeWby8Ly/PE+kfaPSjx5Q1xkXjfW8sJ7QBQE5NXJBZuHST2RhkkEuuRqpwdP7yLW/t2PRlYYqO7yaRK7KC7wZjHJLd3x51iYn3QWWITdocJjY/4WNB3zHlQ68/Par17LP/7VE37cKLJcjkkyfSN49C48fZhRjsApMorAgu3DhJ7o4wisUNHYnfxvM388mS7VyR2oN1gpGN6RWITdoq5aCQ2o11yx0L771peN82UlWZua13nSDmCEmudExo33j6c8ZI8MB+QV4A8kNgbJSixkZ1FolKVseNHdD5m5Hs7b7EeQYmN7CaTKrED7AbjOyZ5d52OO8V45wN3mhObtztMaEzG6lUU2gtZr8+NgJYR2GpLSGefcc8KDNLjft84DoybaB8yBxY8LF1epSk5ndKZyW8l9Mf7OPnPox3mDhJ7o0SXVQrsLJK020vyjh9+MZEevQ8psUm7ySRKrJGfUPaU3WB8x+S3t9uv4f6MrU7g31kmaQWIxJ1/QpLqrZe1xaJZdv+xTv8IEusbx+FdhPz9nLMDEtwOl5LXvkvW5Z6PxA6d/zzaYe4gsQAAACNz6akDS5XYuTC1xEIaSCwAAMBIjDXvVV6X232SID9h8a3r7b6k6FuXudnVyplb78/XPM6cVpSyNnhRBNb+zl03PLQ+duQ9g6KwXvDssF5033bw5x9fU3zI9dEvDRILAABwYcaS15qUbb7DL216pvfE1tZ+fVR31lJzw6wXnbA2eKh8ueubh94FiL0sO8B60b3aIbrmuNz/Q6+PPsbvCokFAAC4EGPLa01orrtv7eXY+TbyC73Pjlz1Wi86c71vb/kyV3kJCn6ixPZZL7rXS82+/FPX3h5offQxfl9ILAAAwMBMJa81ooBE1l6OnV8U/jWSgy/k9lgvutumNUL5MpeG7COxbjny14seth3KNJLXFB9wffRLg8QCTMClb2AAMA1Ty2tNdiQ2YXOa5LW16y2gE9dpDuWbI2/B8o0YiRXLlLle9FAR6Vj+4priF1gf/VIgsQAjM/bNDAAuz1zkVce7DGBAUkLnp6+tbX034HrRUrma8obKl7u+edL62PLa20OsF923HVLWHI+uER6T2BksA4bEAowMEgtwPcxRXmvcdbnDj/3j52esre283NVtvehOa4NL5UtZbztxfezYsUOsF92vHQL5h6Z9DLw++hhjHIkFGJk53NwAoB9zlleAWwGJBRgZbnIAywV5BZgPSCzAyHCzA1gmyCvAvEBiAUaGmx7AskBeAeYJEgswMtz8AJYBUwcA5g0SCzAy3AAB5g3yCrAMkFiAkeFGCDBPkFeAZYHEAowMN0SAeYG8AiwTJBZgArgxAkwP8nr9zGFXqdC2tNAPJBZgArhJAkwH8np5nF2jKta7y0mctMPUrUtsbGvhpYPEAkwAN0uA8UFex2MKeZqrsCGxlwOJBZgAbpoA43GL8mpL02q3KSOh+/vy30+PZYTy9VHdrVbN903EdH8vylcT2azO8+Ufkqcm75cH69gynzqP9f7BiObqUdwmjeY7IfL7+qjugtHZGrd+obzvXrRzqzo49dfb83Xjb0ehDGY7JrSFJy0xGh7pt6WBxAJMwDXfPAHmwi3Ka83d/tmQnfrftrSu9/elENafW9LXpFPLryXDPoaQ2Lr89pQAW6RXq4eq/JKwmp+5aWXmbdX/br9x5NMpXyO0dh5yGcS0Ym3hrQ+RWAAYmFu4iQJMxS3La40uirXIrF82lpzK0b8y0mgJVyVk+nfB/MU5sVWaqRKrRQ2NMnlEWp4Ta0mscK4u6ql5hyKaTtTbrl+kDGad8tvCrA8SCwADc0s3U4AxuXV5rWnk5fVR3a0e1Przs1rvHsv/PlUy6oiR/Hi7lSY9zVSJ7RGJ9YibHWUO5RmLLBeFKZ2xvN22cuvnRK+t+sXKYNYpsS289UFiAWBgbvGmCnBJkFeXJtq6e1Trz5vmcft6b0qkM/XAkrY2+vhczc8MTyUoipEkduhI7C6et9u+Qjn6RGIdMe8Rid0xnQAALsCt31wBhoKpA35qWVy/PrfC+qLJqDFf1p6vqb+EpE8NkF5OEkQ1JLGeeabJ0wnsl9KaObHudAfvnFjPHOAUgY7ND/a/NCfXL6mtfG2RkFbqFJAlgsQCTAA3WIB+IK9xjJeCLPEKva1fzp01pcd+Mcw8L09izXJUaUoiHYiGmqsTeD73vexlrWwgtoVXGq25vkmrEzw6c5BDZRD7MLkt3LTcNrkemUViASaAGy1AN5DXaUhdlQBgTJBYgAnghguQB/I6LfXLTJfccQsgFyQWYAK48QKkgbxOT/s4+jpfDoLlgsQCTAA3YIAwyCsAxEBiASaAGzGADPIKAKkgsQATwA0ZwAR5BYBckFiACeDGDFCCvAJAV5BYgAngBg3ALlsA0A8kFmACuFHDLYO8XiehzQ8ALgESCzAB3LDhFkFerxskVm+L8I5lMAxILMBEcOOGW4F5r3BrILHjgMQCTAQ3cLh2kNfpqDcoWO/NjQpauap5VuunlXPeV5+/UV+9Pqq7/XNzTPPdy0N5bJNW9b0lbl3L0JSliuyu9w/G8fquYfV2uM131ba43ryjx7t51buVOXl76uF+XrVlpO6+Muv5120PJUgswERwI4drBXmdHl1Ga/GSooOlINVyWU0HqIWrEb5+EptTBqMOzfSEUjad/J4e1dqRw0DeScdbdW3yfvCIuK8t3e+j50hlrvqglu27/UYU/lsFiQWYCG7ocG0gr/OhEaJK2ozPtGheI0m7lSNMojR2kdiMMhh1sKS6KIoqMuweWxS1EFpl1c7NOd4vnHJbOG0pSWzsHKm96j8kAvW4ZZBYgIngxg7XBPI6L0LCJLHerVpBHFpiM8pg1CEksXVk8sVOxy+ZScenSmykHqLExs5JKjNzbHWQWICJ4AYP1wTyOi+CUb9KAJ1zLhWJzSiDUZ5IJNaOysYipUnHZ0qsty0DEus9xyOxTvkT2u5WQGIBJoIbPVwTyOu8EAUysgSWI3L2nFh7XqjzfYLEZizD5c6JNc81XjprvotJbOT4VIlNqId+fFb7W2Vu/qjQJJjlzEqQWICJ4IYP1wZjeT74onq6GEqPqI1H3i+PRqTV+d5evSBBYlPK4Bz3uhFXJ7DTWb9sghKbdHyixCa1pb3Sg/7ynHCOXGZrNYMmCo7EFgUSCzAZSCwAzBl7usD4+bvTCQB0kFiAiUBiAWDOILEwd5BYgIlAYgFgziCxMHeQWICJQGIBAAC6g8QCTAQSCwAA0B0kFmBCEFgAAIBuILEAAAAAsDiQWAAAAABYHEgsAAAAACwOJBZGZqs2P/6f+vbHP6u/zz332/9U377+X8Nvv808/8MP6suXU8OnD1O3BUgcTmd13E5fjhy+/virev3yN/X66U+Tl2UKvv30t7L+X/6mXn/+b/X1DMo0Ku/+W/1Y198ZAwd1Oh/VduoyAlwhSCxMwFZtvs+V2K3a/Pif6h865/kb9fHnH9SHier84VM873cff1I/f/zNDPpnQrZHdV7aDf/DL6W4vPtv9f3H309fnpH5+uOv6ke93nV7zKBso/X/l1/Ut772KAq1PZ7V6TCDsgJcGUgsTEAXif2D+m2X6G3Dd+rTz39Q7yaqc4rEwsJv9jcqsS6/V+8/3WA0VhsHP9oSv8Q/zgAWABILI/AH9VtjGoAtseb39lSDv3//v8Y0gm9f/099+/0fkvN/9/EnYxrBly8n9eXTd+X31RSDempBc2z9/bs/qJ+/nNSXTz+oT835rpCaefygPn36SX18p51vYURctWN8kdgPn7TzdRlPLJ+XlPOtOrRl/K48pzn3B/WhmbKhp/GdlrZVfoOtOp7NqQTlY+pf1fsP2uPaL7+q9+/08unf/c2JgtWP+n/8+Pv2sb+ehvf8P6nvv/xNvX76pfzvl1/Utx9+qY5rI296OYaW2EXVXy/PQJHYJdb/64+/qu+dqUru2Db5oD59+aK+fPnEH7sAGSCxEKT/gvxbtfnxf9Xma/3fpqj+w/f690U599WR1AtGYj/8YM6PffcH9XMtsfW/v1RSWh2vy+a7jz+10isdXyRGYq1023Mtuf3wgyCy/vJFiZ3/7jv14Z1Znra9vlOf6nO1cr37+FNzzIdPZlsUH34w26tme1Tnt5M6WJ+XIqNLw5/U9/q/3/1JffvOPN6RiFpUGrn6k/r2Q8r5f1Lf18Lz4ZdmvqcoKheKxC6m/lLZbqj+sXnRh9Nb4CkDEgvQBST2xpEkNYXkPL7+s/rt+631uS6kVhS2wZ7/OrHEev/9G/XxU3yaQneJ/U59EoTv3ccfWjGMlTdGSn2tSLIhsVpUuy5/K7FWFDYULfY8chWl5MMv7WdWJO31iywxXsEMnv8n9X0tJR9+aaJ0Y0vsUur/ox0lvaX6V0hzYouilNjz0b4WAkAfkNgboKuojiaxSXKKxOqMJ7HfqU+WcOpR1iSJTZ2L7I3ECmLUSIwb+csTzNj5c5DYBdTfernp5upvIM8JDkdiAaALSOyVcAlRHURihVUF/v79/1rTCVKWy7qsxLrzPFMlVlpV4Dfq48/mEl7mI/UyD2eJL+90AutxvC3Ol5ZYo93sssck1p5+EB4r0rzBbz+5yzZ9+6kWjz+p743vynmMWRITPH8gid0e1fntTb2dDtljd+71//rjr1b5BIm74vp/+8mch/v1x1+FKQXMiQW4BEjsQhhbUocR2Iqv/6z+n/FS1p+tebHVPFnPy10XfbGrKJT5yPsn9fFD/bLTd+ajdOnfVRrGi1eSoBqP5HUpLYU3/LjdfSTfpJ9YPi8J55vt95P69OmnqgxauT5917wk9/PH3zTnlOUU6uj5g0JaneDbT7+q9x9/MR73OtKgvfTz/adftUfCv1fvfzYfFduPm/3nVy/21PMcq5d69BeEvv9gny+vlbo9ntWbEGVOYd71l9O/nfrXZYyskxtdnQCJBegCEjsjppbTQYQVoA/CzV58nLwotup47j4fkvovvf4LXzoOYMYgsSMytZAiqrAE7B27li8xB3XqGIWk/ldSf9aIBbgIg0rs3f65FKPXR3W3WmWfv9pt1LqWq9dNpzSmZmohRVLhmrj17Uyp/23XHwDCzEZiV0+PrcB+/kZ99flZrZ/mJ7FTCymiCun4lrfyzQ0GAABYDvOR2N2mErL5RGCnFlMkFQAAAEAGifWAqAIAAADMl84Su1rdq7uX50bA1i+PXoldPT2q9as1VWB/33x/9yJIXZVG33m2XUFSAQAAAOZLZ4kVxdMS0KLQI6wutcgGJbb5btwILaIKAAAAMF86Sexq9dC+hPXyoO5WK/PFrEpAV6v7JgJrRF6bVQg2guyasjpVJLYo/CI7dacBAAAA3DrdJLYRTnMFAVs43RUHbNrz5zYnFgAAAADmS0+JDUdNkVgAAAAAuAQjRWLja74isdCJ7VGd397Um4G7O9DhpH3fYfcc8/yTOp3NPOT0y+02397MHajKHYyq4w4nq+xWGmL99DSrtN7eym0ttePrbS7Lfeut808Ho9zNlqB6ebR2sut3OJ6sOvmIlC9Sf7Hsev/F2g8AAK6WbhKrRVjXLw/OZ+2cWHfubFFUKxvsN2otvgA2nzmxMFMqEWr2It8e1Unfl317VGdNZA+nVtqKoijFJ0Nytsezue/74WSIcjj9gzqdz0b5tsezOp9bCXT3Vd+q46mV2JMmmPVxxtas2udie2jlkvavP5zK8hyk/Kv6ufW3xTxApHzB+gvf2/0RPr/8Q0KqNwAALJuLr07QSGjyKgaWxE60OgHMkTqqZ0VaJWlrhE3et9wVHz+OxNplCqZ/UKfT0ZKqkzoeJYmt5WtsiT2pw/aozo2I6xJ4UCdd0LuQLLFC/cW+MssUO7+soxQRBwCAJdNrndi1vU5sHY21oqZ3u427TqwWmS0KIrEQJighkrTVUuYRN6/oBfOXH2eH0y+Fa1tLa3X81pLYpMfgtgxqn9uP08UyhSS20MXYI9FdiZQvVn9bYg+nNycymzaNwPNHEAAALJJBd+wCGJpaUIKPg0eQWAN9ukCixNb/rkXRllgzkujP1yexvSOxRaHaqLJPYus5vua82pT2yovEymPAJ+jJ7aePjZzyAwDALEFiYRE48051LjydQC6PLX6+9OtH35UAVnWQJTbCxSW2njpxMCT2LLT7NvnFrnj5YvU3vz+okxVJzepLaz4zAAAsFyQWFkMdkXOExZG2ct7pMC92bdXxLKwuYL+5H3qxKyKBkoSJYjaCxNb1PRsvdrnTOC4tsfpnzvfWi3tJ7VdHX1m1AADgakBiYWFYy1Z5lqCSpKbb8ktbdTydrTwkqZPSb5eXaqN/+mdndfzRs0SUXgdhTqn0nb2EVS2sKUtsOctsGW2klzl/KkGwfL4lsqrjff1Wfn5Sh8j5zIMFALhekFgAAAAAWBxILAAAAAAsDiQWAAAAABYHEgsAAAAAiwOJBQAAGJDV6r7Z4Ge9v5+8PH1gwyGYM6NLbPvjLnfmsv89RSOsVg/iTmMAAAA6a9826p/1LdIvL7G+Ld3Xrxt19zTcfQyJhTnTSWL9P+JntY78eKaWWCk/JBYAAFKYjcS+hMoQvxcn54PEwozpFYmtB3fOjxSJBQCAa6ARyZcH4/MxphM0eWv3rc/CjjwAACAASURBVLvdpo3IDpQvEgtz5iISq/+A7b8KUyTW+AvTujiUaZTSud4/GPmsd3p6ep61pG6sctU/zFZi1y9menaecp385ZHbRSrbY9UegXyeHsvvqjaR0jPy0y5oej/V6az3VXpOXwz/1zzALRGO1MHcSe3nNIl9UHcv7aP/9Ysrg6unR/faG5FQSWL1+4d9/t1OyuPBKMtqde+W1ZDYe2+dbdlFfmEMBpdYv5TK0ur8uxKvOs27/cYRKfuHasucXS49zWAk9nMtwg+W3Nn/NvOLnR9qM7NskXwyJLa8KD7KbVyn87kV7Vi/TT1QAZbC1AIGw5DS1ykSK6IdbwcbdEIiG47EmvcE3/xZuyzBKQq2nBr3UDfy3KbFPQQux/ASa4lWUWiitkuX2NBfb9Lj/6YsukTWP7qX9kedOp3AOMcSa7vusfNDZc/KJzMSa/SVnk+djv4XfKTfph6oAEthavmCYUjp6zSJfVbr3X0V5aw+cwIM1nV/t/EGQpy8Hcr82rJoT/deHpp8Wxl1gzHNcVrAQ3pa2ARBmuPaexGRWBiD4SU29FdlgsQWhf3jdH/EQYk1/gp8VuunKn1PVNKbniZ9oXrmSmyobNF8MiXWvcjJEd2Ufpt6oHrZHtX57U29GZzUwTrucNK+Px/VNjMf8/yTOp3NPOT0t+p4flNvb2d13OrpHdSpPu5wsspupSHWT0+zSuvtTZ0O5vGnQ5nf9nh2zz8djHKfj9uybHp5tHay63c4nqw6+YiUL1J/sex6/8XabwKmli8YhpS+zp0T215n3adiMv4ARfjFLvdpn52W8wQxFsV17m9tvRFWmIqLSazvMUjOi13+ObfhSKxejq9en6v5n/di/t70UiOkQuTXPt9pA1/ZYvlkSKzdHmIkVoq6LmFNw0qEakkrtkd1qiWs+b6VzMOplbaiKErxyZCc7fHcSl59fnL6B3U6n43ybY9ndT63Erg9ntu6FIUqiq06nlqJPWmCWR93OGlirH0utodWrrPw+eFUlucg5V/Vz62/LeYBIuUL1l/43u6P8PnlHxJSvS/J1AIG/Ujt51lIrDEn9t55jG/n2ZbRJ7HmcZKgmsJ7PWviwvK4wJxY/3zQ8vuwxN7tn4NSZ+YhzyU183EvBLZgRiXWefnKrkOmxHrKlpyPc3HySaz9mCggsZF+mwd1VM+KtErS1gjbQZ0EYXXFx48jsXaZgukf1Ol0tKTqpI5HSWJr+RpbYk/qsD2qcyPiugQe1EkX9C4kS6xQf7GvzDLFzi/rKEXEAfoxnMTmv0QrSWxRuI/2vZFY692InEiseQ/uXgeAvlxodQL7DXu/tPr/LV8cjPSt1Qbsx96+RxzuPJ+4hLp/MadHckNtFyyb9Nez/tj/9dGQ1VAfrF82QYmN9dvUAzUoIZK01VLmETev6AXzlx9nh9MvhWtbS2t1/NaS2KTH4LYMap/bj9PFMoUkttDF2CPRXYmUL1Z/W2IPpzcnMps2jcDzRxBAR3pLrDAPtT7/br9pXs4N5h2LxOr3FH1ObOC4df20T5gT2+Rvvyzm+54pBnBBFrntbOq6rnN+RD7nss2JWlCCj4NHkFgDfbpAosTW/65F0ZZYM5Loz9cnsb0jsUWh2qiyT2LrOb7mvNqU9sqLxMpjwCfoye2nj42c8gN46CuxRRFZOSBFYj0Y09ICx6YeFwu4OEt6sToBjMBVS2z9I5rji0lzLtsccead6lx4OoFcHlv8fOnXj74rAazqIEtshItLbD114mBI7Flo923yi13x8sXqb35/UCcrkprVl9Z8ZoA+DCGxRVGtRmCv4fryEL6/Bbad1VcnaI/fmE/aXp+d41are7W214kVVrOx6xh6L4NILFySq5XY9q/E+f0VOOeyzZk6IucIiyNt5bzTYV7s2qrjWVhdwH5zP/RiV0QCJQkTxWwEia3rezZe7HKncVxaYvXPnO+tF/eS2q+Ovk64agHAteGblwswFouUWLhlrGWrPEtQSVLTbfmlrTqezlYektRJ6bfLS7XRP/2zszr+6FkiSq+DMKdU+s5ewqoW1pQltpxltow20sucP5UgWD7fElnV8b5+Kz8/qUPkfObBAlwGYw4t0+JgIpBYAAAAyELauQtgbJBYAAAAAFgcSCwAAAAALA4kFgAAAAAWx+Ikdg47S5lLi4xbjjnUHwAAAGBqZi2x9m5e5WfTS1yzU9mF13ida/0BAAAApmZxEjsHppRYAAAAAOghsc6Wc7t27+X13lzM33z87u7u0e5i0q45555TL6hsil0dmVzvH4zjdcG00/ctziyVw663sy3fq7ajSb3fdFPGsp5JZXTaM63+ZX4P5k4sWvum5A0AANeLfU/KO7ff078+ec+xPeaYV+ouptdIJ4m1G2y1elBrXeY0SZKiiaUIVhL69Fiea8iuLb+6sMkS24i09YNrxfo+GNkMlcOuvx2JXSVKrLeMvvbMqr/dZml5Tz0AAQCWyJTvRnQv6/IldognlEuW2OA0QyQ2sRGriKUdqVwJeyzbgmecL0QDS8GtBSxD4rQ8jTR2G2PwlAIaH/x6Gs53XSU2WEahPVPqL5zblG9/H8176gEIALBEmgDJ6zjTy3qVdcJoKBKLxF6SThLrmxMaElaJ+nznEf2QEitFYj0d7StHrP59Jdbbngn114XVbnMkFgDgMjQBEem+F5jGJUlNSEKkqXvGOSnT9F43Qp7haX5tXXpO4cvMO63t7Gl2mdMWhTI57d1nemCf+numZcrn1fVvx8/6xVOmxP5eGv0k1heJlaKunr2VbYEbPBJrXQBSxXTMSKy3PftGYnfxvKcegL3ZHtX57U29GZzUwTrucNK+Px/VNjMf8/yTOp3NPOT0t+p4flNvb2d13OrpHdSpPu5wsspupSHWT0+zSuvtTZ0O5vGnQ5nf9nh2zz8djHKfj9uybHp5tHay63c4nqw6+YiUL1J/sex6/8XaD+ACNNfVl4fIKjLyNC77mu9/GuebapY4jaw+r5Eq/71Vn+ZnliFzCl/PvOPpx++L3jQ9ZTLqO/T0wNz6C9MyQ/2RMt5y+ntpdJtOYE0bcObECn+RhueX2oNDe/xvCVeuxOrph+oUK4d7rPQX8cYzaBNF27lQrbLrny35S5wjW4lQLWnF9qhOtYQ137eSeTi10lYURSk+GZKzPZ5byavPT07/oE7ns1G+7fGszudWArfHc1uXolBFsVXHUyuxJ00w6+MOJ02Mtc/F9tDKdRY+P5zK8hyk/Kv6ufW3xTxApHzB+gvf2/0RPr/8Q0KqN0BXbOl0pDT1uuu5zvvyCX1uTCOzvndELGOaX7cpfN3zjredIHGxNCNlMuo78PTA7PoL0zJD/ZE03jKndS6JgVYn8DeU0cAG7l9dX33+Rq1fzDmsRj6B1QnikubmHSqjXQ4d6fG/+fjgUZbiQDRUas+U+rvnZg7uRUlsHdWzIq2StDXCdlAnQVhd8fHjSKxdpmD6B3U6HS2pOqnjUZLYWr7GltiTOmyP6tyIuC6BB3XSBb0LyRIr1F/sK7NMsfPLOkoRcYBueK/feiAics1v/+2f5uabahabRuZKtSVSCdP8mnQ7BY66591JYiNpxspk1HfgJ6vZ9fd4lK8/ys/SxDqlv5fGrNeJHQLvxcYzQGCeBCVEkrZayjzi5hW9YP7y4+xw+qVwbWtprY7fWhKb9BjclkHtc/txulimkMQWuhh7JLorkfLF6m9L7OH05kRm06YReP4IAshADoxYAZ2UwEUtFq/PzXsbdl7eqWaxaWSxaGBkmp9Z34EjsZG8+0isN805RWJjZb2gxKb099K4aokN/sWGxC6CWlCCj4NHkFgDfbpAosTW/65F0ZZYM5Loz9cnsb0jsUWh2qiyT2LrOb7mvNqU9sqLxMpjwCfoye2nj42c8gNo+IQgd1UY80Ubz0tV3qlmkWlk9nm+KW4JT+A6v4fSMe+8KLY8pS/ajqE5sUNPD8ytf0KgzVv/q3jimsdVS6w5IDUQ2MXhzDvVufB0Ark8tvj50q8ffVcCWNVBltgIF5fYeurEwZDYs9Du2+QXu+Lli9Xf/P6gTlYkNasvrfnMALlEI3ifN45kFoX8Qm0tvqGlkZKmmgmCEpriVhThaX5G/pkS2zfv7Ol39hQOT31iZTLq3Hd6YJ/6J0isW/+UP5rS+ntpXL3EwvVQR+QcYXGkrZx3OsyLXVt1PAurC9hv7ode7IpIoCRhopiNILF1fc/Gi13uNI5LS6z+mfO99eJeUvvV0VdWLYAZcc2PeQHGAImFhWEtW+VZgkqSmm7LL23V8XS28pCkTkq/XV6qjf7pn53V8UfPElF6HYQ5pdJ39hJWtbCmLLHlLLNltJFe5vypBMHy+ZbIqo739Vv5+UkdIuczDxbmTL02+dJfrgGYCiQWAABgZMzpB0gsQBeQWAAAAABYHEgsAAAAACwOJBYAAAAAFgcSCwAAAACLA4kFAAAAgMWBxAIAAGRg7rY17uoCc9l9ydnZytkUwd0x0zk3sMnDrRPaGrdTP03U1pfOH4kFAADIoNli9sLru4pbpyOxsydU9/w0liOxwfGKxAIAAEzPlBI7V5DYYfsNiU0DiQUAAEik3mXrK33vemu/e1tA6hv5ev+gTUMwJbjd/KD+7t44tskrGJ2tacUnJW+pzEXhbovblFEoR1eJXb942mNl198vc6Fjmz846jrYdYrk4/bLqv1M7G9fv63ieVVlK8/ZiBKb30/92jp//Nj1HravbZBYALgswla4MA7ltsLuNsn0Tz/sSGxYalaGZK53+r9r4TOjVavVg1p7hdWWRd9j/bS8Q/Wq/92US5OlmLQmSWxTJrvM7rnlHw9SWuFjzfra7Zx4rt0v0f6O91s0r0ZoXaHL66fY2Ettv/j4CU9/6ZZ/7LeIxMJN8P79T+r9DMpx0xxOSFIPtsdzp/Y7nCISS/9k01litUeq5Y26+t6KpNWkyJB0rh59jOVt5KfVo85n/bJp8irTlUWt73QCvU3t9iwKLdpoRwATjjUinIF+s8/19ksXic3MKzSdIK+fImMvVq6c8ZM4nSAn/9hvEYmFmwCJnQFI0iQgscMztMT65timSKz9uLwoCjkSlyMhzWPgZ7XePZb/fVqV53mimINJ7P7ekU5JQO26ho41pltoecbO9fZLF4lNzStFYrP6Ke0PKF+5Li6xGX0tgcTC7Pnnf/kv9dc//kX9z7/8U/P/f/3jf6k//mN9zL+q//jjX6rP/6L++m//rv65Pv8f/139j/5dxf/8yz+V3//uJ/XXP/5F/cfvzLz++v5f0/Kv03//k1aGfGEuH/tWnE7qdD6qre/75ruDOtXHv72pt7eTOhxO1XEndWjOr45zzk+gSe9NvZ0O7r+LwngcHXwkLUlSld7pUP57ezybafctf7D9zDzPx22bf+wR/IDtE80/9rg/kn4psXobeurmldj+7X9tXExih47EZkpIe24tRZtmSsN676vjBSKxngioRMqxzeP2Wo4882O9/TxEJDaSV04kNq+fuj0FCPbVBSQ2pa8lkFhYBo0s1nL5r+p9JZ7v3+tCW5RiqkloeUxALH/3UyOxTV7W+aH8y++0Mvzup1aSU7DkYXs8G6JwOFlicjhZIltJifb59nhuxNCJxB1OliRG2B7VWT/elp3tQR209A+nVkpD9dQ/N4638utb/nD7aXka8nxQB6kOl2qflPx97RdJ350Xe1An44+ccPq9x88V4kisPc/Pms+Y/EjVmRO7coTBOyfWGyHNk9i6LOvX50aEysjec/n5zleOPnNiPXOEE+ZFxo4VX3JKzMffL+H+lto4O6/AnNi8foqMvVi5cv8I8tW7Y/4xkFhYBv/47+o/RDG0orCeaOgQEivnLxwvnR9kq45nLdJlR1EFYdgeT5VYaN9rEtJKrBVFE/OIczi1x+v/XxSFEwnUI6sGnSS2b/lj7dfmeerxKL13+6Tk75XYcPqiNNtt7k1/mPFzbUiPmc03yx+z5iUWhf0WvOdz38te1hv0OZEwu26GYFoRy/ALZvkSG1ytwVlxIUG0hGPr1SScl6DsSKWv/Xz9Euhvud9W8bwiaXbrp4SxFyhX1z+C2nr3yz/2W0RiYRmEJFafPuBh3hJrsT2qsx5p7SuxQzz+rdO2o45CVE+PAotpCJ8HJbZX+ceR2N7t01li4+mLc2JzJJbpAwAwU5BYWAYBiXz//i+mhIrHuHNom3OMx/9VZHdEiXUkw5BYSUK26ngSJFeU2MDj/Sy26ng+qZNTFltyyshdrsS2n9fzfPXpBP3KH26/ts17SWzf9ukjsZH0Dyd7HmvudIIhxg8AwPAgsTBz/kn98d/c6QKmtArH2NFZ4wUvaw6tMSXhv9Qff6fPf43kr6f7/l/dfyfU0XjpSHxU6z7SdaYKaC8V6S8IlcfZ0xU6vpzjmQvZvoxUzr08nSJ5B188O6vjwZ4f2rf8vvbzl6+TtA3YPrHy6e0XSr+ZD3s8Gce0op3SPwONHwCAgUFiAQAAAGBxILEAAAAAsDiQWAAAAABYHEgswM3iWz5JY9brgV66/EtvHwCA6waJBQAAAIDFgcQCAABk0C7k332noe5599vhaKq05faLb4yQl568AD9cL0gsAABABtKOXZcguBc9Eiukh8TeGkgsAABABlNK7DWAxMJQILEAAACJlPu+a7w+qrt6v/iXB1UUrlTVEc71/kGbhmBKsLHn/Odv1Hp3bxzb7kUfis7WuPvSh/JuyiCkbdS3qp9znlP2Ku/dxij/en8v5iNHnO36m4JqpP26QWJvFCQWAAAgAzsSu0qU2Poc+7F98+/Xx/bfXmG1BdBOKy9vvV5O2pUo1vJ5t984kugt+9NjVQdXUnP/XRS1THvaqxFaJPbWQGIBAAAy6CyxlXQVRS1l1feWLNaEI5SyaBrl299H8w7l18ihdq6Nr+xOm+n1jUms1Z5GPju3zkwnuF2QWAAAgAyGlljfHNsUidWFtTlPk7w+Etse61+JITQ/2Jl6kSqx1jQEY0rCzq0zEnu7ILEAAAAZXExih47E7uJ5x/Jz0rTKGP18J0SeEyXWF90lEgs1SCwAAEAGjsTa81KtOZrR6QS1BDtzYleOcHrnxHrnn3aX2Lv9cyuKvikPvrLvn4V5uYkSG1nqy8nT195XtqoDuCCxADNDf3Q2dVkAwEV6hG6+Le+RuIBImm/4ez73vexlrQ4grlzQZU6svUJA0uoE7gtlX33+Rq1fNskSa5TbV6+U9kZirx4kFmAG+OZ/IbIAAAAySCzAhITkFYkFAADwg8QCjEyKuCKxAAAAYZBYgJHIlVcEFgAAwA8SC3BhkFcAAIDhQWIBLgDiCgAAcFmQWIABQV4BAADGAYkF6AniCgAAMD5ILEBHkFcAAIDpQGIBMugirsgrAADA8CCxAAkgrgAAAPMCiQXwQNQVAABgviCxABaIKwAAwPxBYgEqkFcAAIDlgMTCTYO4AgAALBMkFm4S5BUAAGDZILFwMyCuAAAA1wMSC1cP8goAAHB9ILFwlbA8FgAAwHWDxMJVgbgCAADcBkgsLB6irgAAALcHEguLBXEFAAC4XZBYWBREXQEAAKAokNjBuXvxiNTrRq1395OXb6kgrgAAAKCDxA6MV2Ir1rtVdpqr3aY6f6PuVvnnLxnkFQAAACSQ2IFpJPb1sRHO1dODWn92P0/l1iQWcQUAAIAYSOzASBIb+nz19KjWr7qQPav1/t4977N1zNNKrVatHOsR3rv9s5NXnc56d9/kt97fq9Wq/vezWj/dq/XLcxs1frHqIKQ7JMgrAAAApILEDkw0Evvy0BzbRliFaQeVyA4tsQYvD5rEetDK26YxXESYF7UAAACgC0jswATnxOpiuzIjos35u00lpq0o+qYTdJVY/QUzU2Kf1XpXRmclGR8yEou4AgAAQB+Q2IHxr04gTCMISlsZbS2KgSVWi6yWacgyfcl5uMgrAAAA9AWJHRg7gmnIqj6VAIlFXAEAAKAzSOzABB/D62LaSGz7mY9bktip+w8AAACWARI7MOKLXSv3xS77M32u7N1+o9b6+Y1QmsJrzGet0jAivANL7KXmxE7dZwAAALA8kNiBiS6xpYloG6GNvQT2YE09yE9jEIm9wOoEAAAAAF1AYgcmuB7sZ1cW73Ybd51YLTJrHPdZk8gnLXJrr+1a5zXjSCwAAABAH5BYAAAAAFgcSCwAAAAALA4kFgAAAAAWBxILAAAAAIsDiQUAAACAxYHEAgAAAMDiQGIBAAAAYHEgsQAAAACwOJBYAAAAAFgcSCxou3aVu3PZ/56uXA/OzmNzoW2jdgvgbufL7Rz7fpR2HzHfOff1XLlEP/Ud10vt45S2nHP5AW4VJPYCmAKibSc78E1h+PJeTmJjaUrfz/mm0fdmX2/hu97J58a+v1TfG+2+IIm99B9ec/nDTmyzkSS2bxvM+/dstuXSrkcAtwoSOzCr3UaMnq2eHtV6RjdAo8xIbI/6XJ/ETtOeSOwcuFWJTenvJZUf4FZAYgckJzLiRmvbm0adznr/YByjC03w/KfH6vxHM7rQCHaV3v7eSkuSWPemFrqYS3mIkWntXP/3bT7rl/x2GLzN9bq9boIS244FN6+7F39beL+v+vSrlwerLmW6SeWv02i+87V7KDrbre2MOlV1ENvL09erYP3D4yv9NyXXMTZ+g7+5yPg0+uT1sfrjpco32ufW77ZrGRLGdagNQmMjp49zf89S2p2vmeI1b9jrka9/pr5vASwZJHZAmpuBcJM2jhMkobzJb5ybwnqn/9sfKTXO126MhgQ0N51w5NX+dxMVrKW3qmf976ZeGXmktEnfdhi2zU1xb2/8UsTKV05NZDMjsXGhySz/6qHqK6nd7b4L1yeatzVe7vabQJvVaVh5ZAqdO74S28dbx0j60m8udcx5xlRXiR2yDOm/Uf9YT+7jjN9zfv/G2iF+vbrEdRkA+oHEDoh9s7YjX87FTJPd5tyde2MpivpiKN/cnPPr7wOPvYz0olJrlkc/N9QeoTyctgvdNDq2g5F+3za3+zZ0sxYk3/5D4GISm1j+cLtb/R+pT2reofEopqG1wWASm9E+Zh0TJVZ/whAbc5Ex1VliByxDdKwkjPWufRz6PWf3b/T3nyGxF7wuA0AeSOyA+CKxvsiURI5Qec8XLqZtGjppEmvmX33nuRCn5uG0XZebRqQdxL7p2OZONDpws5du4m40clyJ9eWXIrGx+sTydseFFCkPCM7+/uISG69josQKAuMbc7Ex1VliByxDbKykjPXkPs74Pef2b/z3P4DEdrwuA0B3kNgB8c2JjT1e9aaTGVVrzhculrbE5ERii0K7Gb4+V/O63Lxz8nDr3P2m4WsHI/2B27xzJHa3Ev8da8vBJHboSGzCHwBivXpG6UaNxAqSk/Kbi465S0ViByxDdKwkjPXkPs74PQ9+zRxQYnOuywDQDyR2YKRHp7H5d04asYtl7HyvxNrnZ0hs85l8g4vlYddBajv7+77tILZp1za3HgUmzYn1zA9u2ypDYr3R/MTpBHb5mzmx7vSQ2HSS2Pd23nf75/h86tw5q0L7h8ZX8lgK9VkofUkgU3+nvjmx0T5PkNieZcj9jYZkP7eP3T5MmG/b9ZqZ0N+XuC4DQD+Q2Avgvq1bId5cdNKkIHp+8GZW3UReNlkSWxStWPmmEoTyKAprjrC0soHzfb92SOuXjDY33uI23yR38vLMh7bbMmeJrVD+SeU3yhTqF+GPmEB94jd3643twOoE6atDuO0fGl/57eP2WTB9j6DExqdRp5dHR9LCfR6X2Owy5IzrWlwj7ZbVx8HfaIIgd71mxsb8ANcjJBZgeJBYSKbP4z4ACBOKNEIrlVx/AKAGiYVk6pdzWB4GYHiQ2DB3L/6nQABwmyCxkET7aC0+/xQA8kFiAQDyQGIBAAAAYHEgsQAAAACwOJBYAAAAAFgcSCwAAAAALA4kFgAAAAAWBxI7IDk7SPU5Zwn1iqd5uTexpYXP51T3cHuMPxaWMAb97RVfCB+6tOt8Vki4ZN8Oea1o0rR2QZu6/QCuGSR2QIaQ2DnejMeW2L5tsESJje3gNVxfBvaEH12eu/dzH4n17aiX2vZz/I0O3ydIbOc0kViA0UBiZ8Y13yDles5bYsdiSomdfgxMJLH1tqmZ4janNrxcnyCxndNEYgFGA4kdEOliW+9y5d8zXj/H2mM+sEf7ev/oieDWmDchZx9wfQ92a09v+0bm26M9uwzGHu0b8WbppqHLhh1B8+zvrt2Y1lr7m3u0h8vq69OU/d+N8/U6e7bMNMZIXd9onyTsQ2/tab/e+do2FJ1122eINgj1c0r7DSmxeh/UdfCND2+5Y/0l/mby2tF3LQmN5aRxEvldxq5hKeNckmNb9pL7OtLWeb/vhGtFoG7ub2zl1KsZW2yXCzA4SOyAOBfb6uJXX7zu9pto1DF2M9Yvmu4N15ZnU7zcm0U/iR2yDKE2KT/zTbuQzn8wyherj13WcP/Yafsfxa+eHtXaifbJ/WpHYuN9Ei6HG218qMoita2vjnJbD9UGSWM98dx+kdj4lB5zLAttmCix5m8mox0915Lk313qOLGvDSnXsMRx3ozxWk61tLP6OvN6Ff59R64VwXJ5fmO6xNbtSVQW4CIgsQPik9jQBayzxGpp2hf1otBuEDv3RuS9weZK7IBlCLWJkZYWzbBviu35QqRNk8RYWcP944vixR+/ho7rLLGeckjt5W3byB9fdlsP1Qa5j4lD5/aeE5szlvtIrJ5PRjv6riXxsuaNE6fcHSTMWwcxQun5PYT6OrWtk37f4WtFsFy+31hTz+fFvTAJsDSQ2AGJTidIivQlSqxwgZZY71ZuBGQoiR2wDNF2FITVL2qBG9P+PlrWcP/kCZwzVWAkifXdiFMkNtbWQ7VBinimntsnEuuLEPrGRy+JNaYB9GlH6w9lb1kTx0ngdxm7hqWOAKucegAABexJREFUc7Pd/FM6on0da+us33f4WhEql/c3Zk0xQGIBLgcSOyA5j9J85/SRWN+cq4tFYgcsQ6wdg9HBzOhKrKzh/kkXD7t8Y0ZiU8ebWMdIWw/VBrlTLAaPxNaPgT1zM71jeSKJla4l8bL2i8SmXMM6jfN9PUf4PppGV4lN+32HrxWhcnl/Y/p4qo7xzSUGgH4gsQMiRbSk+V+hc4oifBMI3gwTpyA4897seXLO9wkS27MM9vF2G/jfKE+Z5+aZB5gkPH0l1m7jRImN9klETuz2bubEuo9x43P9LtcGceGRz43PkQ3ML4282JUyPrzj09dfPSXWdy2J/u5yx4lV7pRrWM44N6OU2jjI6uvE30bm1BKp74Pl8v3GjM/D7QEA/UBiB8R/Y/3G+9d4MKpj3XyM76y05LUv3UhmWY5H921e4w1la/WCBInNLoOVh9MuQhukPqZLeiM7UlZ/n2bMY7TyWL9skiU23ifxcviEwW3byBi0+3HANgiO9cC5Q0ts09ZNdC8ylqXxGeqvnhIbupaEypo0TpJ++6FrWPo4N9KT5gcn9HXKtST99x2+VmSN39gfBrzcBTA4SOwNEnpkCAAAALAEkNgbBIkFAACApYPE3iBILAAAACwdJBYAAAAAFgcSCwAAAACLA4kFAAAAgMWBxAIAAADA4kBiAQAAAGBxILEzR1qsfM7k7JZzmfz1xdkvU4ahV3eYWx/32dJ1iPYauj3GGBPRukz0ewAAuGaQ2AEZ7mYf3h1pLgTLO9FNW9r56nL1zpfYofu475hLSfOSEjvGmB9jTETrgsQCAAwOEjsgSOz0ZUJih+9XJHa6vgAAAD9I7IAYe4zre2c7+3gn7I3enN/e0Ncv7t7e8rl+ubrT0jD3Xw+nYe4R/o1a73zlDUWj3LRje5fbhNIy6uaRILce8TIWhb1X+8aRspQ+6NXHev6fv1Hr/X0gvcQ6C2ma5fRLbHS8RNprrDEvjom6Parxb0t2ypicy+8BAOCWQWIHJOVxYueoVHUj86fXnlPeuN1oUC0Wtazc7TfVTTuchh0ZW60e1Np7g7YFKFz/WP3M9om3ZSjq5q9HYhnr8xpBe05qv959/PRYldPNKxb989Y5I82UPIPjxWqvMce8NCZWiRLrz38evwcAgFsHiR0Q8YZsiWNRaDdV7TPv+cKj1fKGXd30rBuykedOllg7WhdLQ6qDv7zWTTtS/1j9pPKH2jIosb56xMpofe+IR04fdOhjux5G/8ck1lPnnDSdf2eOlyGmE3Qd89KYSJZYX/4z+T0AANw6SOyAiBEiQVjzboJpN1QJ8YZuPF41b6y+NHximHLTjtU/56ad0pYhifV9F0vX/t6Rnow+6CqxzmPxRIkNtkdimj4Ri46XS0ls7pgfWGLn8nsAALh1kNgByY7EDiA4qZE2m1CkMXRsvLwZkaddXBiM/BLaMklicyKxCZHFnD7o0sdOHTMisb4656SZ0qeh9ryUxKaO+YtJ7MS/BwCAWweJHRj7huPOn4tIR+R8+5icOXN3++dWLKToj++RdH3Td+YAroTyeuYAeudfZkhsQlsGpxN46xEpo32eMyc2b95ibh+XdbLzsqO0suR46xxIMz4nNnO8BObEXnrMS2PCmZfq68/YdIYJfg/MkQUAaEFiB8Z4a7m+UVlvModuQO75cclz33aW83De6DZWJwinYdZBy9sprxCNCtQ/N/IUa8vYckpJ9RDSNd+2NyUwpw+69LGd9vplE+mDVbTOoTTTVieIjJdIe4015n1jIlS+lDE51e8BiQUAaEFiAQAAAGBxILEAAAAAsDiQWAAAAABYHEgsAAAAACwOJBYAAAAAFgcSCwAAAACLA4kFAAAAgMWBxAIAAADA4kBiAQAAAGBxILEAAAAAsDiQWAAAAABYHEgsAAAAACwOJBYAAAAAFgcSCwAAAACLA4kFAAAAgMWBxAIAAADA4kBiAQAAAGBxILEAAAAAsDiQWAAAAABYHEgsAAAAACwOJBYAAAAAFgcSCwAAAACL4/8DFTc6AAS9zIAAAAAASUVORK5CYII=)"
      ]
    },
    {
      "cell_type": "code",
      "metadata": {
        "id": "-yUyCoOT47Ik",
        "colab_type": "code",
        "outputId": "a5cdac5f-b11b-4b57-d38e-f679efb1f95e",
        "colab": {
          "base_uri": "https://localhost:8080/",
          "height": 126
        }
      },
      "source": [
        "#WET code\n",
        "print('chicken')\n",
        "print(2+3)\n",
        "\n",
        "print(3+5)\n",
        "print('chicken')\n",
        "\n",
        "print('chicken')\n",
        "print(5+10)"
      ],
      "execution_count": 0,
      "outputs": [
        {
          "output_type": "stream",
          "text": [
            "chicken\n",
            "5\n",
            "8\n",
            "chicken\n",
            "chicken\n",
            "15\n"
          ],
          "name": "stdout"
        }
      ]
    },
    {
      "cell_type": "markdown",
      "metadata": {
        "id": "1joi08_-GKiP",
        "colab_type": "text"
      },
      "source": [
        "You call a created function just like you would any native function, by using its name and passing it the required variables."
      ]
    },
    {
      "cell_type": "code",
      "metadata": {
        "id": "Cf61Zwb74RHd",
        "colab_type": "code",
        "outputId": "38770cac-6ec0-4e6f-96c5-773d4cce158d",
        "colab": {
          "base_uri": "https://localhost:8080/",
          "height": 127
        }
      },
      "source": [
        "# Not a great function, but now we can call it as many times as we want.\n",
        "def print_chicken_and_sum(num1, num2):\n",
        "  print(\"chicken\")\n",
        "  print(num1 + num2)\n",
        "\n",
        "print_chicken_and_sum(2, 3)\n",
        "print_chicken_and_sum(3, 5)\n",
        "print_chicken_and_sum(5, 10)"
      ],
      "execution_count": 0,
      "outputs": [
        {
          "output_type": "stream",
          "text": [
            "chicken\n",
            "5\n",
            "chicken\n",
            "8\n",
            "chicken\n",
            "15\n"
          ],
          "name": "stdout"
        }
      ]
    },
    {
      "cell_type": "markdown",
      "metadata": {
        "id": "dfkAqK9_MlP-",
        "colab_type": "text"
      },
      "source": [
        "## The Beatles - An Example"
      ]
    },
    {
      "cell_type": "markdown",
      "metadata": {
        "id": "grvDo11UIen_",
        "colab_type": "text"
      },
      "source": [
        "Before moving on, let's take a look at how functions can make our lives easier by looking at the song [\"I've Just Seen a Face\"](https://genius.com/The-beatles-ive-just-seen-a-face-lyrics) by The Beatles. We could simply write a mess of print statements or one large one to output our lyrics, but we will break it up into functions. \n",
        "\n",
        "Just use your imagination that the lyrics are actual code.\n",
        "\n",
        "<img src='https://media1.tenor.com/images/ae6a291f432d71839ae9f703a8fd6b27/tenor.gif'>"
      ]
    },
    {
      "cell_type": "code",
      "metadata": {
        "id": "Zev6Hdc8JQOH",
        "colab_type": "code",
        "colab": {}
      },
      "source": [
        "def verse_1():\n",
        "  print(\"I've just seen a face I can't forget the time or place\")\n",
        "  print(\"Where we just met she's just the girl for me\")\n",
        "  print(\"And I want all the world to see we've met\")\n",
        "  print(\"Mmm-mmm-mmm-m'mmm-mmm\")\n",
        "\n",
        "\n",
        "def verse_2():\n",
        "  print(\"Had it been another day I might have looked the other way\")\n",
        "  print(\"And I'd have never been aware\")\n",
        "  print(\"But as it is I'll dream of her tonight\")\n",
        "  print(\"Di-di-di-di'n'di\")\n",
        "\n",
        "\n",
        "def verse_3():\n",
        "  print(\"I have never known the likes of this I've been alone\")\n",
        "  print(\"And I have missed things and kept out of sight\")\n",
        "  print(\"But other girls were never quite like this\")\n",
        "  print(\"Da-da-n'da-da'n'da\")\n",
        "\n",
        "\n",
        "def chorus():\n",
        "  print(\"Fallin', yes I am fallin'\")\n",
        "  print(\"And she keeps callin' me back again\")\n",
        "\n",
        "\n",
        "def outro():\n",
        "  print(\"Oh, fallin', yes I am fallin'\")\n",
        "  print(\"And she keeps callin' me back again\")"
      ],
      "execution_count": 0,
      "outputs": []
    },
    {
      "cell_type": "markdown",
      "metadata": {
        "id": "aMhmAJtFMssJ",
        "colab_type": "text"
      },
      "source": [
        "Now that we have our functions, let's put together a song!"
      ]
    },
    {
      "cell_type": "code",
      "metadata": {
        "id": "IyTabsqyJQqU",
        "colab_type": "code",
        "colab": {}
      },
      "source": [
        "verse_1()\n",
        "verse_2()\n",
        "chorus()\n",
        "verse_3()\n",
        "chorus()\n",
        "chorus()\n",
        "verse_1()\n",
        "chorus()\n",
        "outro()"
      ],
      "execution_count": 0,
      "outputs": []
    },
    {
      "cell_type": "markdown",
      "metadata": {
        "id": "Xh-Zkm8sNCbm",
        "colab_type": "text"
      },
      "source": [
        "What has this done for us? A couple of things that are pretty great:\n",
        "1. Our code structure and flow is more apparent than if we had one giant code block\n",
        "2. It's now trivial to rearrange, add to, or remove code by simply moving the function calls\n",
        "3. Errors or corrections are easier now, we simply go to the function containing that code chunk. Without functions, a change to the chorus would require a change in 4 places!\n",
        "4. Testability. Because our code is compartmentalized, I can change and test the parts with the peace of mind that I didn't screw something else up in the process"
      ]
    },
    {
      "cell_type": "markdown",
      "metadata": {
        "id": "QSpVnL1DX-6x",
        "colab_type": "text"
      },
      "source": [
        "## Parameters"
      ]
    },
    {
      "cell_type": "markdown",
      "metadata": {
        "id": "ggyQIS0n0Ese",
        "colab_type": "text"
      },
      "source": [
        "We ca have as many or as few parameters as we want."
      ]
    },
    {
      "cell_type": "code",
      "metadata": {
        "id": "0erEQyGqYfaC",
        "colab_type": "code",
        "outputId": "30c402f5-d044-495f-d11b-f525cd26414c",
        "colab": {
          "base_uri": "https://localhost:8080/",
          "height": 35
        }
      },
      "source": [
        "def many_params(param_1, param_2, param_3, param_4, param_5, param_6, param_7, param_8):\n",
        "  print('Plenty of parameters')\n",
        "\n",
        "many_params(1, 2, 3, 4, 5, 6, 7, 8)"
      ],
      "execution_count": 0,
      "outputs": [
        {
          "output_type": "stream",
          "text": [
            "Plenty of parameters\n"
          ],
          "name": "stdout"
        }
      ]
    },
    {
      "cell_type": "markdown",
      "metadata": {
        "id": "HnutPW7xuVXu",
        "colab_type": "text"
      },
      "source": [
        "If we don't pass a function a parameter it is expecting then you will end up with an error."
      ]
    },
    {
      "cell_type": "code",
      "metadata": {
        "id": "2NO-e2GXugTH",
        "colab_type": "code",
        "outputId": "ab100356-8fec-4f28-b287-0e3e19583c15",
        "colab": {
          "base_uri": "https://localhost:8080/",
          "height": 208
        }
      },
      "source": [
        "def foo(x):\n",
        "  pass\n",
        "\n",
        "foo()"
      ],
      "execution_count": 0,
      "outputs": [
        {
          "output_type": "error",
          "ename": "TypeError",
          "evalue": "ignored",
          "traceback": [
            "\u001b[0;31m---------------------------------------------------------------------------\u001b[0m",
            "\u001b[0;31mTypeError\u001b[0m                                 Traceback (most recent call last)",
            "\u001b[0;32m<ipython-input-1-dc58c573580e>\u001b[0m in \u001b[0;36m<module>\u001b[0;34m()\u001b[0m\n\u001b[1;32m      2\u001b[0m   \u001b[0;32mpass\u001b[0m\u001b[0;34m\u001b[0m\u001b[0;34m\u001b[0m\u001b[0m\n\u001b[1;32m      3\u001b[0m \u001b[0;34m\u001b[0m\u001b[0m\n\u001b[0;32m----> 4\u001b[0;31m \u001b[0mfoo\u001b[0m\u001b[0;34m(\u001b[0m\u001b[0;34m)\u001b[0m\u001b[0;34m\u001b[0m\u001b[0;34m\u001b[0m\u001b[0m\n\u001b[0m",
            "\u001b[0;31mTypeError\u001b[0m: foo() missing 1 required positional argument: 'x'"
          ]
        }
      ]
    },
    {
      "cell_type": "markdown",
      "metadata": {
        "id": "rgotxlhZY-Ko",
        "colab_type": "text"
      },
      "source": [
        "We can also set default values for our functions. If no value is specified for a parameter with a default, then that parameter will end up with the default value. Many of the functions native to Python have default values that you might not even be aware of, like `print`."
      ]
    },
    {
      "cell_type": "code",
      "metadata": {
        "id": "DcybcEorRI8d",
        "colab_type": "code",
        "outputId": "398a6628-3212-47f5-aede-0729d78d0e84",
        "colab": {
          "base_uri": "https://localhost:8080/",
          "height": 265
        }
      },
      "source": [
        "import matplotlib.pyplot as plt\n",
        "\n",
        "data = [1, 2, 3, 4]\n",
        "\n",
        "# This is nice, especially if you have expected default behavior \n",
        "# (such as the line color on a graph being blue).\n",
        "def histogram(data, color='blue'):\n",
        "  plt.plot(data, color=color)\n",
        "  plt.show()\n",
        "\n",
        "histogram(data)"
      ],
      "execution_count": 0,
      "outputs": [
        {
          "output_type": "display_data",
          "data": {
            "image/png": "[encoded data removed]",
            "text/plain": [
              "<Figure size 432x288 with 1 Axes>"
            ]
          },
          "metadata": {
            "tags": []
          }
        }
      ]
    },
    {
      "cell_type": "code",
      "metadata": {
        "id": "8ET-HoEl0EH2",
        "colab_type": "code",
        "outputId": "85e841c3-b1ac-4509-d717-fd75c41b410e",
        "colab": {
          "base_uri": "https://localhost:8080/",
          "height": 265
        }
      },
      "source": [
        "histogram(data, 'red')"
      ],
      "execution_count": 0,
      "outputs": [
        {
          "output_type": "display_data",
          "data": {
            "image/png": "[encoded data removed]",
            "text/plain": [
              "<Figure size 432x288 with 1 Axes>"
            ]
          },
          "metadata": {
            "tags": []
          }
        }
      ]
    },
    {
      "cell_type": "markdown",
      "metadata": {
        "id": "LhwPbTyku5MT",
        "colab_type": "text"
      },
      "source": [
        "When specifying default values in a function, they must come after the parameters that do not have a default value."
      ]
    },
    {
      "cell_type": "code",
      "metadata": {
        "id": "vV6YiqgUuz1R",
        "colab_type": "code",
        "outputId": "0dbf5589-860a-4d07-d544-fa861bef6611",
        "colab": {
          "base_uri": "https://localhost:8080/",
          "height": 135
        }
      },
      "source": [
        "def foo(x=5, y):\n",
        "  pass"
      ],
      "execution_count": 0,
      "outputs": [
        {
          "output_type": "error",
          "ename": "SyntaxError",
          "evalue": "ignored",
          "traceback": [
            "\u001b[0;36m  File \u001b[0;32m\"<ipython-input-2-05ff22e33090>\"\u001b[0;36m, line \u001b[0;32m1\u001b[0m\n\u001b[0;31m    def foo(x=5, y):\u001b[0m\n\u001b[0m           ^\u001b[0m\n\u001b[0;31mSyntaxError\u001b[0m\u001b[0;31m:\u001b[0m non-default argument follows default argument\n"
          ]
        }
      ]
    },
    {
      "cell_type": "markdown",
      "metadata": {
        "id": "vALNOJccvWbt",
        "colab_type": "text"
      },
      "source": [
        "One other thing to be aware of with parameters, there is no easy way to enforce data types. What does that mean? You can pass a string when your function is expecting a number which of course leads to errors."
      ]
    },
    {
      "cell_type": "code",
      "metadata": {
        "id": "YbapYMpSvvFa",
        "colab_type": "code",
        "outputId": "be804fde-b422-492b-ba7b-7f3892395296",
        "colab": {
          "base_uri": "https://localhost:8080/",
          "height": 35
        }
      },
      "source": [
        "def add(num1, num2):\n",
        "  return num1 + num2\n",
        "\n",
        "add(1, 2)"
      ],
      "execution_count": 0,
      "outputs": [
        {
          "output_type": "execute_result",
          "data": {
            "text/plain": [
              "3"
            ]
          },
          "metadata": {
            "tags": []
          },
          "execution_count": 3
        }
      ]
    },
    {
      "cell_type": "markdown",
      "metadata": {
        "id": "JjI6cre2wEBy",
        "colab_type": "text"
      },
      "source": [
        "Because Python is dynamically typed (variables can change their data type on the fly), `Type Errors` occur frequently. All it means is that you passed the wrong data type to a function and need to sort out what the function expected versus what you gave it."
      ]
    },
    {
      "cell_type": "code",
      "metadata": {
        "id": "KRjPzwhfv77-",
        "colab_type": "code",
        "outputId": "a2d3728d-1a1e-406e-990a-404e76323d88",
        "colab": {
          "base_uri": "https://localhost:8080/",
          "height": 281
        }
      },
      "source": [
        "add('one', 2)"
      ],
      "execution_count": 0,
      "outputs": [
        {
          "output_type": "error",
          "ename": "TypeError",
          "evalue": "ignored",
          "traceback": [
            "\u001b[0;31m---------------------------------------------------------------------------\u001b[0m",
            "\u001b[0;31mTypeError\u001b[0m                                 Traceback (most recent call last)",
            "\u001b[0;32m<ipython-input-4-5ec421783938>\u001b[0m in \u001b[0;36m<module>\u001b[0;34m()\u001b[0m\n\u001b[0;32m----> 1\u001b[0;31m \u001b[0madd\u001b[0m\u001b[0;34m(\u001b[0m\u001b[0;34m'one'\u001b[0m\u001b[0;34m,\u001b[0m \u001b[0;36m2\u001b[0m\u001b[0;34m)\u001b[0m\u001b[0;34m\u001b[0m\u001b[0;34m\u001b[0m\u001b[0m\n\u001b[0m",
            "\u001b[0;32m<ipython-input-3-bfdd92d12dba>\u001b[0m in \u001b[0;36madd\u001b[0;34m(num1, num2)\u001b[0m\n\u001b[1;32m      1\u001b[0m \u001b[0;32mdef\u001b[0m \u001b[0madd\u001b[0m\u001b[0;34m(\u001b[0m\u001b[0mnum1\u001b[0m\u001b[0;34m,\u001b[0m \u001b[0mnum2\u001b[0m\u001b[0;34m)\u001b[0m\u001b[0;34m:\u001b[0m\u001b[0;34m\u001b[0m\u001b[0;34m\u001b[0m\u001b[0m\n\u001b[0;32m----> 2\u001b[0;31m   \u001b[0;32mreturn\u001b[0m \u001b[0mnum1\u001b[0m \u001b[0;34m+\u001b[0m \u001b[0mnum2\u001b[0m\u001b[0;34m\u001b[0m\u001b[0;34m\u001b[0m\u001b[0m\n\u001b[0m\u001b[1;32m      3\u001b[0m \u001b[0;34m\u001b[0m\u001b[0m\n\u001b[1;32m      4\u001b[0m \u001b[0madd\u001b[0m\u001b[0;34m(\u001b[0m\u001b[0;36m1\u001b[0m\u001b[0;34m,\u001b[0m \u001b[0;36m2\u001b[0m\u001b[0;34m)\u001b[0m\u001b[0;34m\u001b[0m\u001b[0;34m\u001b[0m\u001b[0m\n",
            "\u001b[0;31mTypeError\u001b[0m: must be str, not int"
          ]
        }
      ]
    },
    {
      "cell_type": "markdown",
      "metadata": {
        "id": "7_LuAvKVxB4o",
        "colab_type": "text"
      },
      "source": [
        "Catching a return value can also cause a semantic error since Python will simple overwrite what was in the variable before. A bit harder to track down but very do-able with a touch of print debugging."
      ]
    },
    {
      "cell_type": "code",
      "metadata": {
        "id": "TPIKfvJXwtrC",
        "colab_type": "code",
        "outputId": "e93342a3-8797-4eb1-ec34-559fc64e7815",
        "colab": {
          "base_uri": "https://localhost:8080/",
          "height": 35
        }
      },
      "source": [
        "my_list = [1, 2, 3]\n",
        "my_list = add(1, 2)\n",
        "# Where is my list?!\n",
        "my_list"
      ],
      "execution_count": 0,
      "outputs": [
        {
          "output_type": "execute_result",
          "data": {
            "text/plain": [
              "3"
            ]
          },
          "metadata": {
            "tags": []
          },
          "execution_count": 6
        }
      ]
    },
    {
      "cell_type": "markdown",
      "metadata": {
        "id": "8FzAqeYuSEHQ",
        "colab_type": "text"
      },
      "source": [
        "## Local Variables"
      ]
    },
    {
      "cell_type": "markdown",
      "metadata": {
        "id": "dynAPqIDSM3H",
        "colab_type": "text"
      },
      "source": [
        "When you create a variable inside a function, it is **local**, which means that it only exists inside the function."
      ]
    },
    {
      "cell_type": "code",
      "metadata": {
        "id": "eFfwHahuSbBs",
        "colab_type": "code",
        "outputId": "a095cfd0-cf74-42a2-bbe6-8ed855842121",
        "colab": {
          "base_uri": "https://localhost:8080/",
          "height": 226
        }
      },
      "source": [
        "def foo():\n",
        "  x = 5\n",
        "  print(x)\n",
        "\n",
        "foo()\n",
        "x"
      ],
      "execution_count": 0,
      "outputs": [
        {
          "output_type": "stream",
          "text": [
            "5\n"
          ],
          "name": "stdout"
        },
        {
          "output_type": "error",
          "ename": "NameError",
          "evalue": "ignored",
          "traceback": [
            "\u001b[0;31m---------------------------------------------------------------------------\u001b[0m",
            "\u001b[0;31mNameError\u001b[0m                                 Traceback (most recent call last)",
            "\u001b[0;32m<ipython-input-24-770d2484c601>\u001b[0m in \u001b[0;36m<module>\u001b[0;34m()\u001b[0m\n\u001b[1;32m      4\u001b[0m \u001b[0;34m\u001b[0m\u001b[0m\n\u001b[1;32m      5\u001b[0m \u001b[0mfoo\u001b[0m\u001b[0;34m(\u001b[0m\u001b[0;34m)\u001b[0m\u001b[0;34m\u001b[0m\u001b[0;34m\u001b[0m\u001b[0m\n\u001b[0;32m----> 6\u001b[0;31m \u001b[0mx\u001b[0m\u001b[0;34m\u001b[0m\u001b[0;34m\u001b[0m\u001b[0m\n\u001b[0m",
            "\u001b[0;31mNameError\u001b[0m: name 'x' is not defined"
          ]
        }
      ]
    },
    {
      "cell_type": "markdown",
      "metadata": {
        "id": "33G7g-L9S3_O",
        "colab_type": "text"
      },
      "source": [
        "Calling `x` throws an error because it wasn't declared outside the `foo` function. We can only access `x` by adding a return statement."
      ]
    },
    {
      "cell_type": "code",
      "metadata": {
        "id": "iWDfwgpHTMad",
        "colab_type": "code",
        "outputId": "7392304d-2890-46da-ef87-0593ec24ee74",
        "colab": {
          "base_uri": "https://localhost:8080/",
          "height": 35
        }
      },
      "source": [
        "def foo():\n",
        "  x = 5\n",
        "  return x\n",
        "\n",
        "foo()"
      ],
      "execution_count": 0,
      "outputs": [
        {
          "output_type": "execute_result",
          "data": {
            "text/plain": [
              "5"
            ]
          },
          "metadata": {
            "tags": []
          },
          "execution_count": 21
        }
      ]
    },
    {
      "cell_type": "markdown",
      "metadata": {
        "id": "Um4d107ZTahf",
        "colab_type": "text"
      },
      "source": [
        "Parameters are also local and behave the same way."
      ]
    },
    {
      "cell_type": "code",
      "metadata": {
        "id": "xJ5HW4kGTggZ",
        "colab_type": "code",
        "outputId": "f2a94acc-d409-4f3b-b682-c44a33734c88",
        "colab": {
          "base_uri": "https://localhost:8080/",
          "height": 226
        }
      },
      "source": [
        "def foo(y):\n",
        "  print(y)\n",
        "\n",
        "foo(5)\n",
        "y"
      ],
      "execution_count": 0,
      "outputs": [
        {
          "output_type": "stream",
          "text": [
            "5\n"
          ],
          "name": "stdout"
        },
        {
          "output_type": "error",
          "ename": "NameError",
          "evalue": "ignored",
          "traceback": [
            "\u001b[0;31m---------------------------------------------------------------------------\u001b[0m",
            "\u001b[0;31mNameError\u001b[0m                                 Traceback (most recent call last)",
            "\u001b[0;32m<ipython-input-7-fcc75de6207c>\u001b[0m in \u001b[0;36m<module>\u001b[0;34m()\u001b[0m\n\u001b[1;32m      3\u001b[0m \u001b[0;34m\u001b[0m\u001b[0m\n\u001b[1;32m      4\u001b[0m \u001b[0mfoo\u001b[0m\u001b[0;34m(\u001b[0m\u001b[0;36m5\u001b[0m\u001b[0;34m)\u001b[0m\u001b[0;34m\u001b[0m\u001b[0;34m\u001b[0m\u001b[0m\n\u001b[0;32m----> 5\u001b[0;31m \u001b[0my\u001b[0m\u001b[0;34m\u001b[0m\u001b[0;34m\u001b[0m\u001b[0m\n\u001b[0m",
            "\u001b[0;31mNameError\u001b[0m: name 'y' is not defined"
          ]
        }
      ]
    },
    {
      "cell_type": "markdown",
      "metadata": {
        "id": "PVeoeJ3zVb46",
        "colab_type": "text"
      },
      "source": [
        "## Returns"
      ]
    },
    {
      "cell_type": "markdown",
      "metadata": {
        "id": "jTDUANFOVdrS",
        "colab_type": "text"
      },
      "source": [
        "`return` statements can be anywhere in our function, they aren't required to be at the end but if the function hits a `return` statement then no other code in the function will execute. We can also have multiple return statements if we need them."
      ]
    },
    {
      "cell_type": "code",
      "metadata": {
        "id": "bc22PRuEVwS6",
        "colab_type": "code",
        "outputId": "9692d6b8-387b-4741-8a5b-2b1d5c609302",
        "colab": {
          "base_uri": "https://localhost:8080/",
          "height": 35
        }
      },
      "source": [
        "def foo():\n",
        "  return 5\n",
        "  print('This will never print')\n",
        "  return 'This will never be returned'\n",
        "\n",
        "foo()"
      ],
      "execution_count": 0,
      "outputs": [
        {
          "output_type": "execute_result",
          "data": {
            "text/plain": [
              "5"
            ]
          },
          "metadata": {
            "tags": []
          },
          "execution_count": 28
        }
      ]
    },
    {
      "cell_type": "code",
      "metadata": {
        "id": "Z5JN4TAXV5Eg",
        "colab_type": "code",
        "outputId": "2d26b92a-4f93-40fb-a17d-f27f4c72db4e",
        "colab": {
          "base_uri": "https://localhost:8080/",
          "height": 35
        }
      },
      "source": [
        "def odd_or_even(x):\n",
        "  if x % 2 == 0:\n",
        "    return 'even'\n",
        "  else:\n",
        "    return 'odd'\n",
        "\n",
        "odd_or_even(4)"
      ],
      "execution_count": 0,
      "outputs": [
        {
          "output_type": "execute_result",
          "data": {
            "text/plain": [
              "'even'"
            ]
          },
          "metadata": {
            "tags": []
          },
          "execution_count": 27
        }
      ]
    },
    {
      "cell_type": "markdown",
      "metadata": {
        "id": "Mn-m1LVOWa8Z",
        "colab_type": "text"
      },
      "source": [
        "We can return simple data types as we have been doing, but we can also return objects and other functions if we want."
      ]
    },
    {
      "cell_type": "code",
      "metadata": {
        "id": "g9TRaQv5XEme",
        "colab_type": "code",
        "outputId": "baa414d7-6429-4bcd-c13a-657de6daeb02",
        "colab": {
          "base_uri": "https://localhost:8080/",
          "height": 35
        }
      },
      "source": [
        "def list_return():\n",
        "  return [1, 2, 3]\n",
        "\n",
        "list_return()"
      ],
      "execution_count": 0,
      "outputs": [
        {
          "output_type": "execute_result",
          "data": {
            "text/plain": [
              "[1, 2, 3]"
            ]
          },
          "metadata": {
            "tags": []
          },
          "execution_count": 31
        }
      ]
    },
    {
      "cell_type": "code",
      "metadata": {
        "id": "8WcRGLsZWacU",
        "colab_type": "code",
        "outputId": "659e6ddb-62e3-4dec-8267-94af8fabfe29",
        "colab": {
          "base_uri": "https://localhost:8080/",
          "height": 35
        }
      },
      "source": [
        "def foo_returner():\n",
        "  return foo()\n",
        "\n",
        "foo_returner()"
      ],
      "execution_count": 0,
      "outputs": [
        {
          "output_type": "execute_result",
          "data": {
            "text/plain": [
              "5"
            ]
          },
          "metadata": {
            "tags": []
          },
          "execution_count": 30
        }
      ]
    },
    {
      "cell_type": "markdown",
      "metadata": {
        "id": "Au1nLPTLaryo",
        "colab_type": "text"
      },
      "source": [
        "## Comments"
      ]
    },
    {
      "cell_type": "markdown",
      "metadata": {
        "id": "bCBDeBeT3lr7",
        "colab_type": "text"
      },
      "source": [
        "Last but not least, you can and should comment your function. For explaining parts of your function, such as what is happening in a loop, use the normal `#` inline comments. But you can also add a comment at the start of your function to tell everyone what it does, for that you want to use the `'''` triple quote comment."
      ]
    },
    {
      "cell_type": "code",
      "metadata": {
        "id": "KLyrFgUK5sf6",
        "colab_type": "code",
        "colab": {}
      },
      "source": [
        "# Bad way to explain a function\n",
        "def add_wrong(a, b):\n",
        "  # Returns the sum of a and b\n",
        "  return a+b"
      ],
      "execution_count": 0,
      "outputs": []
    },
    {
      "cell_type": "code",
      "metadata": {
        "id": "4yb80xR_65S8",
        "colab_type": "code",
        "colab": {}
      },
      "source": [
        "# Correct way\n",
        "def add(a, b):\n",
        "  '''Returns the sum of a and b'''\n",
        "  return a+b"
      ],
      "execution_count": 0,
      "outputs": []
    },
    {
      "cell_type": "markdown",
      "metadata": {
        "id": "xuQHPddN7KaW",
        "colab_type": "text"
      },
      "source": [
        "Why does the comment type matter? Two reasons: it is python convention ([see PEP8](https://www.python.org/dev/peps/pep-0008/) for detailed Python style conventions), and because of the help function which returns the triple quote `'''` (also known as a docstring) at the start of a function to help the user understand what the function is supposed to do."
      ]
    },
    {
      "cell_type": "code",
      "metadata": {
        "id": "IKtvVC6q7CVt",
        "colab_type": "code",
        "outputId": "29fc6e7a-04e2-4de8-eacb-4026a4c20482",
        "colab": {
          "base_uri": "https://localhost:8080/",
          "height": 90
        }
      },
      "source": [
        "# Doesn't return the explanatory comment\n",
        "help(add_wrong)"
      ],
      "execution_count": 0,
      "outputs": [
        {
          "output_type": "stream",
          "text": [
            "Help on function add_wrong in module __main__:\n",
            "\n",
            "add_wrong(a, b)\n",
            "\n"
          ],
          "name": "stdout"
        }
      ]
    },
    {
      "cell_type": "code",
      "metadata": {
        "id": "HSlUbnrc7ibE",
        "colab_type": "code",
        "outputId": "658bd58c-7754-4e8d-b50e-22e3ede6bd81",
        "colab": {
          "base_uri": "https://localhost:8080/",
          "height": 108
        }
      },
      "source": [
        "# Returns the explanatory comment\n",
        "help(add)"
      ],
      "execution_count": 0,
      "outputs": [
        {
          "output_type": "stream",
          "text": [
            "Help on function add in module __main__:\n",
            "\n",
            "add(a, b)\n",
            "    Returns the sum of a and b\n",
            "\n"
          ],
          "name": "stdout"
        }
      ]
    },
    {
      "cell_type": "markdown",
      "metadata": {
        "id": "ofJ2T9ETbPAB",
        "colab_type": "text"
      },
      "source": [
        "Any comments after the block comment (`'''`) at the start of the function should be line comments (`#`)."
      ]
    },
    {
      "cell_type": "code",
      "metadata": {
        "id": "l3LFM6wRblpu",
        "colab_type": "code",
        "colab": {}
      },
      "source": [
        "def add(a, b):\n",
        "  '''Returns the sum of a and b'''\n",
        "  \n",
        "  # Print parameters for demo, trivial comment\n",
        "  print('a:', a)\n",
        "  print('b:', b)\n",
        "\n",
        "  # return the sum of a and b, another trivial comment\n",
        "  return a+b"
      ],
      "execution_count": 0,
      "outputs": []
    },
    {
      "cell_type": "markdown",
      "metadata": {
        "id": "hMAxcveeQST4",
        "colab_type": "text"
      },
      "source": [
        "## Why Functions?\n",
        "It  may  not  be  clear  why  it  is  worth  the  trouble  to  divide  a  program  into  functions. There are several reasons:\n",
        "- Creating a new function gives you an opportunity to name a group of statements, which makes your program easier to read and debug.\n",
        "- Functions  can  make  a  program  smaller  by  eliminating  repetitive  code.  Later,  if you make a change, you only have to make it in one place.\n",
        "- Dividing  a  long  program  into  functions  allows  you  to  debug  the  parts  one  at  a time and then assemble them into a working whole.\n",
        "- Well-designed functions are often useful for many programs. Once you write and debug one, you can reuse it."
      ]
    },
    {
      "cell_type": "markdown",
      "metadata": {
        "id": "jBxy-fbJXgdC",
        "colab_type": "text"
      },
      "source": [
        "## Function Practice"
      ]
    },
    {
      "cell_type": "markdown",
      "metadata": {
        "id": "2FdrAqnS2ZG6",
        "colab_type": "text"
      },
      "source": [
        "### Breakdown\n",
        "Break apart the following code into a couple of small functions. Two rules of thumb:\n",
        "\n",
        "1. If you are repeating yourself with minor variations you can probably put it in a function or a loop.\n",
        "2. Functions should generally do one thing (make a graph, pull html from a webpage, etc.). If you describe the functionality of your function with an \"and\" then you likely can split it into smaller functions. \n",
        "\n",
        "You get better at figuring out what needs to be a function or loop, and finding the right size function with practice."
      ]
    },
    {
      "cell_type": "code",
      "metadata": {
        "id": "uDEAvHF34o4O",
        "colab_type": "code",
        "colab": {}
      },
      "source": [
        "import pandas as pd\n",
        "import matplotlib.pyplot as plt\n",
        "\n",
        "\n",
        "# Read in and verify the dataframe\n",
        "persons = pd.read_csv('https://raw.githubusercontent.com/bundickm/DS-Unit-1-Sprint-1-Dealing-With-Data/master/module4-databackedassertions/persons.csv')\n",
        "\n",
        "# Rename the columns and set the index\n",
        "persons.columns = ['ID','age','weight','exercise(t)']\n",
        "persons = persons.set_index('ID')\n",
        "\n",
        "# Make an exercise vs weight table\n",
        "exercise_bins = pd.cut(persons['exercise(t)'], 5)\n",
        "weight_bins = pd.cut(persons['weight'],10)\n",
        "exercise_vs_weight_table = pd.crosstab(weight_bins, \n",
        "                                       exercise_bins, \n",
        "                                       normalize='columns')\n",
        "\n",
        "# Make an age vs weight table\n",
        "age_bins = pd.cut(persons['age'],10)\n",
        "weight_bins = pd.cut(persons['weight'],10)\n",
        "age_vs_weight_table = pd.crosstab(weight_bins, age_bins, normalize='columns')\n",
        "\n",
        "# Plot the first table\n",
        "exercise_vs_weight_table.plot()\n",
        "plt.title('Exercise vs Weight')\n",
        "plt.show()\n",
        "\n",
        "# Plot the second table\n",
        "age_vs_weight_table.plot()\n",
        "plt.title('Age vs Weight')\n",
        "plt.show()"
      ],
      "execution_count": 0,
      "outputs": []
    },
    {
      "cell_type": "markdown",
      "metadata": {
        "id": "tR-LekZWA1Mv",
        "colab_type": "text"
      },
      "source": [
        "### Sum Without Current Number\n",
        "Write a function that takes in an array of integers and returns a new array such that each element at index `i` of the new array is the product of all the numbers in the original array except the one at `i`.\n",
        "\n",
        "For example, if our input was `[1, 2, 3, 4, 5]`, the expected output would be `[120, 60, 40, 30, 24]`. If our input was `[3, 2, 1]`, the expected output would be `[2, 3, 6]`."
      ]
    },
    {
      "cell_type": "code",
      "metadata": {
        "id": "HBHEgfBtBWCB",
        "colab_type": "code",
        "colab": {}
      },
      "source": [
        ""
      ],
      "execution_count": 0,
      "outputs": []
    },
    {
      "cell_type": "markdown",
      "metadata": {
        "id": "npUysl8TBW9C",
        "colab_type": "text"
      },
      "source": [
        "# Debugging"
      ]
    },
    {
      "cell_type": "markdown",
      "metadata": {
        "id": "0HGG8e6mCvss",
        "colab_type": "text"
      },
      "source": [
        "Breaking a large  program  into smaller functions creates natural checkpoints  for debugging. If a function is not working, there are three possibilities to consider:\n",
        "\n",
        "- There is something wrong with the arguments the function is getting; a precondition is violated.\n",
        "- There is something wrong with the function; a postcondition is violated.\n",
        "- There is something wrong with the return value or the way it is being used.\n",
        "\n",
        "To rule out the first possibility, you can add a print statement at the beginning of the function and display the values of the parameters (and maybe  their types). Or you can write code that checks the preconditions explicitly.\n",
        "\n",
        "If the parameters look good, add a print statement before each return statement and display the return value. If possible, check the result by hand. Consider  calling the function with values that make it easy to check the result. \n",
        "\n",
        "If the function seems to be working, look at the function call to make sure the return value is being used correctly (or used at all!).\n",
        "\n",
        "Adding print statements at the beginning and end of a function can  help  make the flow of execution more visible.\n",
        "\n",
        "Debugging content above is adapted from *Think Python, 2nd Edition* by Allen B. Downey"
      ]
    },
    {
      "cell_type": "code",
      "metadata": {
        "id": "jwWjSxyTDg7j",
        "colab_type": "code",
        "colab": {}
      },
      "source": [
        "# This function adds a suffix to each string in a list of strings. How can we use print \n",
        "# debugging to verify list_of_strings is a list containing strings, and suffix\n",
        "# is a single string?\n",
        "def foo(list_of_strings, suffix):\n",
        "  new_strings = []\n",
        "  for string in list_of_strings:\n",
        "    return string + suffix\n",
        "  return new_strings"
      ],
      "execution_count": 0,
      "outputs": []
    },
    {
      "cell_type": "code",
      "metadata": {
        "id": "yB4wk1sOFF7c",
        "colab_type": "code",
        "colab": {}
      },
      "source": [
        ""
      ],
      "execution_count": 0,
      "outputs": []
    },
    {
      "cell_type": "code",
      "metadata": {
        "id": "3zuwZ5AlF1-g",
        "colab_type": "code",
        "colab": {}
      },
      "source": [
        "# This function should return a list of strings that are a combination of\n",
        "# the strings in list_of_strings and the suffix string. How can we use print\n",
        "# debugging to figure out whether or not we are getting a list of strings back?\n",
        "def foo(list_of_strings, suffix):\n",
        "  new_strings = []\n",
        "  for string in list_of_strings:\n",
        "    return string + suffix\n",
        "  return new_strings"
      ],
      "execution_count": 0,
      "outputs": []
    },
    {
      "cell_type": "code",
      "metadata": {
        "id": "Q1-rp-vbGu51",
        "colab_type": "code",
        "colab": {}
      },
      "source": [
        ""
      ],
      "execution_count": 0,
      "outputs": []
    },
    {
      "cell_type": "code",
      "metadata": {
        "id": "wjcBrYdNGy6C",
        "colab_type": "code",
        "colab": {}
      },
      "source": [
        "# The below code should print out \"2\" for the length of new_strings. How can\n",
        "# we use print debugging to figure out why we aren't getting that result?\n",
        "def foo(list_of_strings, suffix):\n",
        "  new_strings = []\n",
        "  for string in list_of_strings:\n",
        "    new_strings.append(string + suffix)\n",
        "  return new_strings\n",
        "\n",
        "new_strings = []\n",
        "foo(['hello ', 'hi '], 'world')\n",
        "print('Length of New Strings:', len(new_strings))"
      ],
      "execution_count": 0,
      "outputs": []
    },
    {
      "cell_type": "code",
      "metadata": {
        "id": "-hm2hs0eHqpf",
        "colab_type": "code",
        "colab": {}
      },
      "source": [
        ""
      ],
      "execution_count": 0,
      "outputs": []
    },
    {
      "cell_type": "markdown",
      "metadata": {
        "id": "ABIfEMKOBmXU",
        "colab_type": "text"
      },
      "source": [
        "# Further Exploration"
      ]
    },
    {
      "cell_type": "markdown",
      "metadata": {
        "id": "Ail8NU1IIbgd",
        "colab_type": "text"
      },
      "source": [
        "## Verifying Parameters"
      ]
    },
    {
      "cell_type": "markdown",
      "metadata": {
        "id": "Yh6EyRT3IfHu",
        "colab_type": "text"
      },
      "source": [
        "Sometimes it is important that we verify our parameters as part of our function. This may be because the values are coming directly from the user or because you are avoiding a crash. Whatever the reason, you have a couple of tools to verify your parameters"
      ]
    },
    {
      "cell_type": "markdown",
      "metadata": {
        "id": "BrUVoPbMLyZR",
        "colab_type": "text"
      },
      "source": [
        "### Assert"
      ]
    },
    {
      "cell_type": "markdown",
      "metadata": {
        "id": "cDnOoYIzJwPk",
        "colab_type": "text"
      },
      "source": [
        "We can add assert statements, these verify with a boolean expression. If the expression is `True`, nothing happens. If it is `False` then it will return a custome error message."
      ]
    },
    {
      "cell_type": "code",
      "metadata": {
        "id": "iEaslTafJWq9",
        "colab_type": "code",
        "outputId": "5becc2a2-f0ec-4d72-eae2-6b29b71b084b",
        "colab": {
          "base_uri": "https://localhost:8080/",
          "height": 190
        }
      },
      "source": [
        "x = '6'\n",
        "assert type(x) == int, 'TypeError: x must be an integer'"
      ],
      "execution_count": 0,
      "outputs": [
        {
          "output_type": "error",
          "ename": "AssertionError",
          "evalue": "ignored",
          "traceback": [
            "\u001b[0;31m---------------------------------------------------------------------------\u001b[0m",
            "\u001b[0;31mAssertionError\u001b[0m                            Traceback (most recent call last)",
            "\u001b[0;32m<ipython-input-24-23f6326dc446>\u001b[0m in \u001b[0;36m<module>\u001b[0;34m()\u001b[0m\n\u001b[1;32m      1\u001b[0m \u001b[0mx\u001b[0m \u001b[0;34m=\u001b[0m \u001b[0;34m'6'\u001b[0m\u001b[0;34m\u001b[0m\u001b[0;34m\u001b[0m\u001b[0m\n\u001b[0;32m----> 2\u001b[0;31m \u001b[0;32massert\u001b[0m \u001b[0mtype\u001b[0m\u001b[0;34m(\u001b[0m\u001b[0mx\u001b[0m\u001b[0;34m)\u001b[0m \u001b[0;34m==\u001b[0m \u001b[0mint\u001b[0m\u001b[0;34m\u001b[0m\u001b[0;34m\u001b[0m\u001b[0m\n\u001b[0m",
            "\u001b[0;31mAssertionError\u001b[0m: "
          ]
        }
      ]
    },
    {
      "cell_type": "code",
      "metadata": {
        "id": "YSSsU7f_LQwS",
        "colab_type": "code",
        "outputId": "363e4b53-4f0e-4c17-cc4c-9e3e066cb85f",
        "colab": {
          "base_uri": "https://localhost:8080/",
          "height": 354
        }
      },
      "source": [
        "def foo(x):\n",
        "  assert x > 0, 'x must be a positive integer'\n",
        "  return x\n",
        "\n",
        "print(foo(5))\n",
        "print(foo(-5))"
      ],
      "execution_count": 0,
      "outputs": [
        {
          "output_type": "stream",
          "text": [
            "5\n"
          ],
          "name": "stdout"
        },
        {
          "output_type": "error",
          "ename": "AssertionError",
          "evalue": "ignored",
          "traceback": [
            "\u001b[0;31m---------------------------------------------------------------------------\u001b[0m",
            "\u001b[0;31mAssertionError\u001b[0m                            Traceback (most recent call last)",
            "\u001b[0;32m<ipython-input-25-43fef9c85c10>\u001b[0m in \u001b[0;36m<module>\u001b[0;34m()\u001b[0m\n\u001b[1;32m      4\u001b[0m \u001b[0;34m\u001b[0m\u001b[0m\n\u001b[1;32m      5\u001b[0m \u001b[0mprint\u001b[0m\u001b[0;34m(\u001b[0m\u001b[0mfoo\u001b[0m\u001b[0;34m(\u001b[0m\u001b[0;36m5\u001b[0m\u001b[0;34m)\u001b[0m\u001b[0;34m)\u001b[0m\u001b[0;34m\u001b[0m\u001b[0;34m\u001b[0m\u001b[0m\n\u001b[0;32m----> 6\u001b[0;31m \u001b[0mprint\u001b[0m\u001b[0;34m(\u001b[0m\u001b[0mfoo\u001b[0m\u001b[0;34m(\u001b[0m\u001b[0;34m-\u001b[0m\u001b[0;36m5\u001b[0m\u001b[0;34m)\u001b[0m\u001b[0;34m)\u001b[0m\u001b[0;34m\u001b[0m\u001b[0;34m\u001b[0m\u001b[0m\n\u001b[0m",
            "\u001b[0;32m<ipython-input-25-43fef9c85c10>\u001b[0m in \u001b[0;36mfoo\u001b[0;34m(x)\u001b[0m\n\u001b[1;32m      1\u001b[0m \u001b[0;32mdef\u001b[0m \u001b[0mfoo\u001b[0m\u001b[0;34m(\u001b[0m\u001b[0mx\u001b[0m\u001b[0;34m)\u001b[0m\u001b[0;34m:\u001b[0m\u001b[0;34m\u001b[0m\u001b[0;34m\u001b[0m\u001b[0m\n\u001b[0;32m----> 2\u001b[0;31m   \u001b[0;32massert\u001b[0m \u001b[0mx\u001b[0m \u001b[0;34m>\u001b[0m \u001b[0;36m0\u001b[0m\u001b[0;34m,\u001b[0m \u001b[0;34m'x must be a positive integer'\u001b[0m\u001b[0;34m\u001b[0m\u001b[0;34m\u001b[0m\u001b[0m\n\u001b[0m\u001b[1;32m      3\u001b[0m   \u001b[0;32mreturn\u001b[0m \u001b[0mx\u001b[0m\u001b[0;34m\u001b[0m\u001b[0;34m\u001b[0m\u001b[0m\n\u001b[1;32m      4\u001b[0m \u001b[0;34m\u001b[0m\u001b[0m\n\u001b[1;32m      5\u001b[0m \u001b[0mprint\u001b[0m\u001b[0;34m(\u001b[0m\u001b[0mfoo\u001b[0m\u001b[0;34m(\u001b[0m\u001b[0;36m5\u001b[0m\u001b[0;34m)\u001b[0m\u001b[0;34m)\u001b[0m\u001b[0;34m\u001b[0m\u001b[0;34m\u001b[0m\u001b[0m\n",
            "\u001b[0;31mAssertionError\u001b[0m: x must be a positive integer"
          ]
        }
      ]
    },
    {
      "cell_type": "markdown",
      "metadata": {
        "id": "aIGxQqbaL2Ro",
        "colab_type": "text"
      },
      "source": [
        "### Error Checking with Conditionals and Try/Except"
      ]
    },
    {
      "cell_type": "markdown",
      "metadata": {
        "id": "JDjcZ6g1L7K_",
        "colab_type": "text"
      },
      "source": [
        "Maybe you don't want to crash your program when you get an unexpected value, in that case you can use conditionals to return an alternate value."
      ]
    },
    {
      "cell_type": "code",
      "metadata": {
        "id": "8ZjO-ITuMa1E",
        "colab_type": "code",
        "outputId": "79d52bc8-082a-47fb-dbd6-8342e3217df2",
        "colab": {
          "base_uri": "https://localhost:8080/",
          "height": 53
        }
      },
      "source": [
        "def foo(x):\n",
        "  if x < 0:\n",
        "    return -1\n",
        "  return x\n",
        "\n",
        "# Now we know that if we get -1 out of this function that something went wrong\n",
        "print(foo(5))\n",
        "print(foo(-5))"
      ],
      "execution_count": 0,
      "outputs": [
        {
          "output_type": "stream",
          "text": [
            "5\n",
            "-1\n"
          ],
          "name": "stdout"
        }
      ]
    },
    {
      "cell_type": "markdown",
      "metadata": {
        "id": "ZfbxeaxEO9yH",
        "colab_type": "text"
      },
      "source": [
        "We can also use `Try..Except` statements. These basically say: \"Try this chunk of code, if it is going to cause a crash, do this other thing.\""
      ]
    },
    {
      "cell_type": "code",
      "metadata": {
        "id": "_XOEgvLlPNiF",
        "colab_type": "code",
        "outputId": "17569c94-fc80-4da4-9cdf-d6fe4516cc53",
        "colab": {
          "base_uri": "https://localhost:8080/",
          "height": 53
        }
      },
      "source": [
        "def add(x, y):\n",
        "  try:\n",
        "    return x + y\n",
        "  except:\n",
        "    return 'Oops, something went wrong!'\n",
        "\n",
        "print(add(1, 2))\n",
        "print(add('one', 2))"
      ],
      "execution_count": 0,
      "outputs": [
        {
          "output_type": "stream",
          "text": [
            "3\n",
            "Oops, something went wrong!\n"
          ],
          "name": "stdout"
        }
      ]
    },
    {
      "cell_type": "markdown",
      "metadata": {
        "id": "OJRt6nYxP4fd",
        "colab_type": "text"
      },
      "source": [
        "Be careful with `try..except` though, because it only cares whether a crash will occur or not, it won't understand your intention."
      ]
    },
    {
      "cell_type": "code",
      "metadata": {
        "id": "uEDdzTbeQISi",
        "colab_type": "code",
        "outputId": "3f9d24de-dcbf-4372-c2e6-919179377e68",
        "colab": {
          "base_uri": "https://localhost:8080/",
          "height": 35
        }
      },
      "source": [
        "# Add was meant to add two numbers, try/except didn't catch our issue because\n",
        "# we can combine strings with the '+' operator.\n",
        "print(add(\"I'm a lumberjack\", \"and I don't care\"))"
      ],
      "execution_count": 0,
      "outputs": [
        {
          "output_type": "stream",
          "text": [
            "I'm a lumberjackand I don't care\n"
          ],
          "name": "stdout"
        }
      ]
    },
    {
      "cell_type": "markdown",
      "metadata": {
        "id": "_KwIc-AmRg6j",
        "colab_type": "text"
      },
      "source": [
        "## Args and Kwargs"
      ]
    },
    {
      "cell_type": "markdown",
      "metadata": {
        "id": "GvK8FIo48t28",
        "colab_type": "text"
      },
      "source": [
        "Python has two special parameters that may come in handy and show up in documentation frequently - args and kwargs. You can dive into both of these with [this tutorial.](https://www.programiz.com/python-programming/args-and-kwargs)"
      ]
    },
    {
      "cell_type": "markdown",
      "metadata": {
        "id": "lvpohpVVcEBf",
        "colab_type": "text"
      },
      "source": [
        "## Lambda Functions"
      ]
    },
    {
      "cell_type": "markdown",
      "metadata": {
        "id": "m5yVNWUDUDZ3",
        "colab_type": "text"
      },
      "source": [
        "Python also has `lambda functions`, also known as `anonymous functions`. In Python these tend to have a very narrow uses, and a named function is often better, but it's important you understand how they work so you aren't surprised when they show up in code or stackoverflow answers. Read up on [lambda functions here](https://realpython.com/python-lambda/)."
      ]
    },
    {
      "cell_type": "markdown",
      "metadata": {
        "id": "WLoGhp7LVAWN",
        "colab_type": "text"
      },
      "source": [
        "# Additional Resources\n",
        "\n",
        "[Functions Documentations](https://docs.python.org/3/tutorial/controlflow.html#defining-functions)\n",
        "\n",
        "[Video on Functions](https://www.youtube.com/watch?v=9Os0o3wzS_I)\n",
        "\n",
        "[args and kwargs](https://www.programiz.com/python-programming/args-and-kwargs)\n",
        "\n",
        "[lambda functions](https://realpython.com/python-lambda/)"
      ]
    }
  ]
}