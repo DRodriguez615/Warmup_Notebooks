{
  "nbformat": 4,
  "nbformat_minor": 0,
  "metadata": {
    "colab": {
      "name": "Warmup - Lists and Tuples.ipynb",
      "provenance": [],
      "collapsed_sections": [],
      "include_colab_link": true
    },
    "kernelspec": {
      "name": "python3",
      "display_name": "Python 3"
    }
  },
  "cells": [
    {
      "cell_type": "markdown",
      "metadata": {
        "id": "view-in-github",
        "colab_type": "text"
      },
      "source": [
        "<a href=\"https://colab.research.google.com/github/bundickm/Warmup_Notebooks/blob/master/Warmup_Lists_and_Tuples.ipynb\" target=\"_parent\"><img src=\"https://colab.research.google.com/assets/colab-badge.svg\" alt=\"Open In Colab\"/></a>"
      ]
    },
    {
      "cell_type": "markdown",
      "metadata": {
        "id": "Q01dn0uZyS9Y",
        "colab_type": "text"
      },
      "source": [
        "> *I had to spend countless hours, above and beyond the basic time, to try and perfect the fundamentals* -Julius Irving\n",
        "\n",
        "Pre-lecture warm-ups are all about setting you up for success - sometimes that means code challenges, sometimes it means discussing interview questions. Today it means working on fundamentals. \n",
        "\n",
        "Read through the lecture notebook with a focus on understanding. At the end of the sections are code challenges for you to practice and reinforce what you read about. After lecture ends, a team lead will post a solution notebook (with explanations) for those exercises. \n",
        "\n",
        "Should you finish early, there is additional content at the bottom to explore. If you don't complete the notebook within the hour, don't sweat it, this notebook is meant for you to build up your knowledge and skills - you can always continue working on it after lecture or when you complete the assignment."
      ]
    },
    {
      "cell_type": "markdown",
      "metadata": {
        "id": "nS3X-vjv9Q8w",
        "colab_type": "text"
      },
      "source": [
        "# List"
      ]
    },
    {
      "cell_type": "markdown",
      "metadata": {
        "id": "iBjBTXCS9UMD",
        "colab_type": "text"
      },
      "source": [
        "A `list` is a data structure that is mutable, ordered sequence of elements. Each element in a `list` may be any data type or data structure (any object).\n",
        "\n",
        "Lists are great to use when you want to work with many related values. They enable you to keep data together that belongs together, condense your code, and perform the same methods and operations on multiple values at once. "
      ]
    },
    {
      "cell_type": "markdown",
      "metadata": {
        "id": "0CSPDXid-muP",
        "colab_type": "text"
      },
      "source": [
        "## Basics"
      ]
    },
    {
      "cell_type": "markdown",
      "metadata": {
        "id": "4g8sFzLJ-hUT",
        "colab_type": "text"
      },
      "source": [
        "We can define a list completely empty or with any number of items in it. The items in a list do not have to all be the same data type."
      ]
    },
    {
      "cell_type": "code",
      "metadata": {
        "id": "jm1SOKkMmjen",
        "colab_type": "code",
        "outputId": "f69d942d-a592-4a07-bbaf-f28f1d9d2aaf",
        "colab": {
          "base_uri": "https://localhost:8080/",
          "height": 35
        }
      },
      "source": [
        "arr = []\n",
        "arr = list()\n",
        "arr"
      ],
      "execution_count": 0,
      "outputs": [
        {
          "output_type": "execute_result",
          "data": {
            "text/plain": [
              "[]"
            ]
          },
          "metadata": {
            "tags": []
          },
          "execution_count": 14
        }
      ]
    },
    {
      "cell_type": "code",
      "metadata": {
        "id": "uij1hfYK-tIp",
        "colab_type": "code",
        "outputId": "f7e2551e-c1f9-4b1f-8675-db4bcf696b18",
        "colab": {
          "base_uri": "https://localhost:8080/",
          "height": 35
        }
      },
      "source": [
        "arr = [0, 1, 'two', '3', [4, 'four'], (5, 'five'), True]\n",
        "arr"
      ],
      "execution_count": 0,
      "outputs": [
        {
          "output_type": "execute_result",
          "data": {
            "text/plain": [
              "[0, 1, 'two', '3', [4, 'four'], (5, 'five'), True]"
            ]
          },
          "metadata": {
            "tags": []
          },
          "execution_count": 103
        }
      ]
    },
    {
      "cell_type": "markdown",
      "metadata": {
        "id": "pQ7lf5bY_qG6",
        "colab_type": "text"
      },
      "source": [
        "We can select individual elements in the list or slice it just like we do a string."
      ]
    },
    {
      "cell_type": "code",
      "metadata": {
        "id": "FvmH1oBIBHxX",
        "colab_type": "code",
        "outputId": "c9396fd9-b09f-4195-8531-3eeb3b6b0892",
        "colab": {
          "base_uri": "https://localhost:8080/",
          "height": 35
        }
      },
      "source": [
        "arr[3]"
      ],
      "execution_count": 0,
      "outputs": [
        {
          "output_type": "execute_result",
          "data": {
            "text/plain": [
              "'3'"
            ]
          },
          "metadata": {
            "tags": []
          },
          "execution_count": 104
        }
      ]
    },
    {
      "cell_type": "code",
      "metadata": {
        "id": "QFn1bDUABUDQ",
        "colab_type": "code",
        "outputId": "05a63ce9-418d-4c6c-c0c7-aaed1ddff5e5",
        "colab": {
          "base_uri": "https://localhost:8080/",
          "height": 35
        }
      },
      "source": [
        "arr[:5:2]"
      ],
      "execution_count": 0,
      "outputs": [
        {
          "output_type": "execute_result",
          "data": {
            "text/plain": [
              "[0, 'two', [4, 'four']]"
            ]
          },
          "metadata": {
            "tags": []
          },
          "execution_count": 105
        }
      ]
    },
    {
      "cell_type": "markdown",
      "metadata": {
        "id": "CquGjcIO_8CV",
        "colab_type": "text"
      },
      "source": [
        "And just like strings, there are a host of useful functions to be discovered by reading the [documentation](https://python-reference.readthedocs.io/en/latest/docs/list/)."
      ]
    },
    {
      "cell_type": "code",
      "metadata": {
        "id": "SoTDaf3fLTPR",
        "colab_type": "code",
        "outputId": "d8745d21-8654-46c7-ec06-8a9003a9f6e2",
        "colab": {
          "base_uri": "https://localhost:8080/",
          "height": 35
        }
      },
      "source": [
        "'two' in arr"
      ],
      "execution_count": 0,
      "outputs": [
        {
          "output_type": "execute_result",
          "data": {
            "text/plain": [
              "True"
            ]
          },
          "metadata": {
            "tags": []
          },
          "execution_count": 106
        }
      ]
    },
    {
      "cell_type": "code",
      "metadata": {
        "id": "MC8sY_MGLwrA",
        "colab_type": "code",
        "outputId": "75ad8022-ec85-4dbf-a890-1f20453e3f34",
        "colab": {
          "base_uri": "https://localhost:8080/",
          "height": 35
        }
      },
      "source": [
        "arr.index('two')"
      ],
      "execution_count": 0,
      "outputs": [
        {
          "output_type": "execute_result",
          "data": {
            "text/plain": [
              "2"
            ]
          },
          "metadata": {
            "tags": []
          },
          "execution_count": 107
        }
      ]
    },
    {
      "cell_type": "code",
      "metadata": {
        "id": "6jG-rAIIOkck",
        "colab_type": "code",
        "outputId": "f28c0bd0-499e-4449-ae1b-4f11259b35dc",
        "colab": {
          "base_uri": "https://localhost:8080/",
          "height": 35
        }
      },
      "source": [
        "arr.count(0)"
      ],
      "execution_count": 0,
      "outputs": [
        {
          "output_type": "execute_result",
          "data": {
            "text/plain": [
              "1"
            ]
          },
          "metadata": {
            "tags": []
          },
          "execution_count": 108
        }
      ]
    },
    {
      "cell_type": "markdown",
      "metadata": {
        "id": "OSFp5ehdCDZ-",
        "colab_type": "text"
      },
      "source": [
        "Unlike strings though, because of lists being mutable, we can change individual elements in a list without creating a new list. This mutability also means we need to be careful with comparisons and copying (we'll see how to copy later)."
      ]
    },
    {
      "cell_type": "code",
      "metadata": {
        "id": "LPQ7x4qSONXO",
        "colab_type": "code",
        "outputId": "e550b535-5899-46dc-f192-8c19fcfb6efa",
        "colab": {
          "base_uri": "https://localhost:8080/",
          "height": 53
        }
      },
      "source": [
        "print(arr)\n",
        "arr[4] = 4\n",
        "arr"
      ],
      "execution_count": 0,
      "outputs": [
        {
          "output_type": "stream",
          "text": [
            "[0, 1, 'two', '3', [4, 'four'], (5, 'five'), True]\n"
          ],
          "name": "stdout"
        },
        {
          "output_type": "execute_result",
          "data": {
            "text/plain": [
              "[0, 1, 'two', '3', 4, (5, 'five'), True]"
            ]
          },
          "metadata": {
            "tags": []
          },
          "execution_count": 109
        }
      ]
    },
    {
      "cell_type": "code",
      "metadata": {
        "id": "6_5BKMHCLbhq",
        "colab_type": "code",
        "outputId": "ce705191-6607-49b7-9b62-c9037035d885",
        "colab": {
          "base_uri": "https://localhost:8080/",
          "height": 35
        }
      },
      "source": [
        "# Lists can be equal by having the same content...\n",
        "arr = [0, 1, 'two', '3', [4, 'four'], (5, 'five'), True]\n",
        "arr2 = [0, 1, 'two', '3', [4, 'four'], (5, 'five'), True]\n",
        "arr == arr2"
      ],
      "execution_count": 0,
      "outputs": [
        {
          "output_type": "execute_result",
          "data": {
            "text/plain": [
              "True"
            ]
          },
          "metadata": {
            "tags": []
          },
          "execution_count": 111
        }
      ]
    },
    {
      "cell_type": "code",
      "metadata": {
        "id": "d10AKRkBLj0q",
        "colab_type": "code",
        "outputId": "57ec5291-94f1-44cb-9f99-c494d4e93de9",
        "colab": {
          "base_uri": "https://localhost:8080/",
          "height": 35
        }
      },
      "source": [
        "# But different in that they occupy different addresses in memory.\n",
        "arr is arr2"
      ],
      "execution_count": 0,
      "outputs": [
        {
          "output_type": "execute_result",
          "data": {
            "text/plain": [
              "False"
            ]
          },
          "metadata": {
            "tags": []
          },
          "execution_count": 112
        }
      ]
    },
    {
      "cell_type": "markdown",
      "metadata": {
        "id": "fm2HV7KcCUgL",
        "colab_type": "text"
      },
      "source": [
        "As we saw when exploring for loops, arrays are iterable so we can use them in a for loop."
      ]
    },
    {
      "cell_type": "code",
      "metadata": {
        "id": "Q49RvKAsM3aX",
        "colab_type": "code",
        "outputId": "c3685575-e0e6-464d-f890-92e17cae0729",
        "colab": {
          "base_uri": "https://localhost:8080/",
          "height": 72
        }
      },
      "source": [
        "arr = [1, 2, 3]\n",
        "for ele in arr:\n",
        "  print(ele)"
      ],
      "execution_count": 0,
      "outputs": [
        {
          "output_type": "stream",
          "text": [
            "1\n",
            "2\n",
            "3\n"
          ],
          "name": "stdout"
        }
      ]
    },
    {
      "cell_type": "code",
      "metadata": {
        "id": "pbsiX3sE6bE7",
        "colab_type": "code",
        "outputId": "a69b13c7-6d02-4d9b-eb9b-b76b27e5d180",
        "colab": {
          "base_uri": "https://localhost:8080/",
          "height": 72
        }
      },
      "source": [
        "arr = [1, 2, 3]\n",
        "for i in range(3):\n",
        "  print(arr[i])"
      ],
      "execution_count": 0,
      "outputs": [
        {
          "output_type": "stream",
          "text": [
            "1\n",
            "2\n",
            "3\n"
          ],
          "name": "stdout"
        }
      ]
    },
    {
      "cell_type": "markdown",
      "metadata": {
        "id": "AaS_jcO2Iqeb",
        "colab_type": "text"
      },
      "source": [
        "## Copying a List"
      ]
    },
    {
      "cell_type": "markdown",
      "metadata": {
        "id": "i1IPupkzD7Jf",
        "colab_type": "text"
      },
      "source": [
        "The mutability of lists is useful but can cause some difficult bugs if you aren't careful, the most common being properly copying a list."
      ]
    },
    {
      "cell_type": "code",
      "metadata": {
        "id": "1qNfJRgbEx8T",
        "colab_type": "code",
        "outputId": "8de0332e-45f6-4489-dd15-fa5a87716b24",
        "colab": {
          "base_uri": "https://localhost:8080/",
          "height": 53
        }
      },
      "source": [
        "arr = [0, 1, 2]\n",
        "arr2 = arr # This doesn't copy the list, just sets arr2 to point to the same memory address\n",
        "print(arr2)\n",
        "arr[0] = 'Not Zero' \n",
        "print(arr2) # Same address means changing arr or arr2 will change them both"
      ],
      "execution_count": 0,
      "outputs": [
        {
          "output_type": "stream",
          "text": [
            "[0, 1, 2]\n",
            "['Not Zero', 1, 2]\n"
          ],
          "name": "stdout"
        }
      ]
    },
    {
      "cell_type": "markdown",
      "metadata": {
        "id": "UHHf-ZvSFOt5",
        "colab_type": "text"
      },
      "source": [
        "We have a couple of options for how to copy, all doing the same thing with different minor tradeoffs (except `deepcopy`). Everything except `deepcopy` does a shallow copy, meaning that the copied list gets a new address but not the objects in it."
      ]
    },
    {
      "cell_type": "code",
      "metadata": {
        "id": "NkdThsQgKp08",
        "colab_type": "code",
        "outputId": "b6c7ea10-64ad-4cfc-cd60-4952cea2b784",
        "colab": {
          "base_uri": "https://localhost:8080/",
          "height": 127
        }
      },
      "source": [
        "import copy\n",
        "\n",
        "a = [5, ['foo', 'foo']]\n",
        "\n",
        "# With these copy methods, the list is copied to a new address but not the objects in it\n",
        "b = a.copy()          # Native Copy, doesn't use the import\n",
        "c = a[:]              # Slicing\n",
        "d = list(a)           # Type Casting\n",
        "e = copy.copy(a)      # Copy Copy\n",
        "\n",
        "# Deep Copy, everything is copied to a new address\n",
        "f = copy.deepcopy(a)\n",
        "\n",
        "# edit orignal list and nested list\n",
        "a.append('baz')\n",
        "a[1][1] = 'bar'\n",
        "\n",
        "print('original: %r\\n list.copy(): %r\\n slice: %r\\n list(): %r\\n copy: %r\\n deepcopy: %r'\n",
        "      % (a, b, c, d, e, f))"
      ],
      "execution_count": 0,
      "outputs": [
        {
          "output_type": "stream",
          "text": [
            "original: [5, ['foo', 'bar'], 'baz']\n",
            " list.copy(): [5, ['foo', 'bar']]\n",
            " slice: [5, ['foo', 'bar']]\n",
            " list(): [5, ['foo', 'bar']]\n",
            " copy: [5, ['foo', 'bar']]\n",
            " deepcopy: [5, ['foo', 'foo']]\n"
          ],
          "name": "stdout"
        }
      ]
    },
    {
      "cell_type": "markdown",
      "metadata": {
        "id": "i3KOv8KfJLHJ",
        "colab_type": "text"
      },
      "source": [
        "As we can see above, mutables in the the shallow copied lists will change for all copies when we change them in the original. In the `deepcopy`, nothing changes as we have completely new objects all the way down to the memory address.\n",
        "\n",
        "So, should we always deepcopy? No, many times we don't need to, like when we have a list of immutable objects (`int`, `bool`, `str`, etc.). Deepcopy is slower and takes more memory, and should be used intentionally because of that.\n",
        "\n",
        "Okay, if we aren't defaulting to `deepcopy` then what is the best way to shallow copy? It's minor but copying via slice tends to be the fastest option, and is common enough pattern to take the hit to readability/explicitness that we get with the native `.copy()` method."
      ]
    },
    {
      "cell_type": "markdown",
      "metadata": {
        "id": "kVsnw4R3GqrT",
        "colab_type": "text"
      },
      "source": [
        "## Adding to a List"
      ]
    },
    {
      "cell_type": "markdown",
      "metadata": {
        "id": "-DZ_KT03N6qY",
        "colab_type": "text"
      },
      "source": [
        "There are four ways to add elements to a list:  `+`, `append`, `extend`, and `insert`. Below is an example of each but I encourage you to play with each so you understand when to use each one. For instance, try using `append` to combine two lists, how does that compare to using `extend` or `+`?"
      ]
    },
    {
      "cell_type": "code",
      "metadata": {
        "id": "zSSjuPvAO81N",
        "colab_type": "code",
        "outputId": "379a91be-010e-4b42-d316-708d2c4b4b2f",
        "colab": {
          "base_uri": "https://localhost:8080/",
          "height": 127
        }
      },
      "source": [
        "arr = [1]\n",
        "print('Original:', arr)\n",
        "\n",
        "# `+` and `extend` add the elements of one list to the end of another\n",
        "arr = arr + [2, 3]\n",
        "print('\\nUsing `+`:', arr)\n",
        "\n",
        "arr.extend([5, 6])\n",
        "print('Using Extend:', arr)\n",
        "\n",
        "# Add a new item to the end of the list (can be any data type including another list)\n",
        "arr.append('four')\n",
        "print('Using Append:', arr)\n",
        "\n",
        "# Place a new item at a specific location in the list\n",
        "arr.insert(0, 'zero')\n",
        "print('Using Insert:', arr)"
      ],
      "execution_count": 0,
      "outputs": [
        {
          "output_type": "stream",
          "text": [
            "Original: [1]\n",
            "\n",
            "Using `+`: [1, 2, 3]\n",
            "Using Extend: [1, 2, 3, 5, 6]\n",
            "Using Append: [1, 2, 3, 5, 6, 'four']\n",
            "Using Insert: ['zero', 1, 2, 3, 5, 6, 'four']\n"
          ],
          "name": "stdout"
        }
      ]
    },
    {
      "cell_type": "markdown",
      "metadata": {
        "id": "T0vaQqh8Gg6h",
        "colab_type": "text"
      },
      "source": [
        "## Removing From a List\n",
        "\n",
        "There are 4 ways to remove elements from a list: `pop`, `remove`, `del`, and slicing. Each have specific uses and it is useful to know all four and how they behave. Just like adding to a list above, take some time to explore each method."
      ]
    },
    {
      "cell_type": "code",
      "metadata": {
        "id": "ZVHVhRwKSJa5",
        "colab_type": "code",
        "outputId": "a4de5546-cee7-4ecb-8dc6-fbcf2cc973a0",
        "colab": {
          "base_uri": "https://localhost:8080/",
          "height": 219
        }
      },
      "source": [
        "arr = [0, 'one', 2, 'three', 3, 4]\n",
        "print('Original:', arr)\n",
        "\n",
        "# Remove a single item from the list (defaults to the last item) and return that item\n",
        "ele = arr.pop()\n",
        "print('\\nUsing Pop:', arr)\n",
        "print('Popped Element:', ele)\n",
        "\n",
        "# Remove a single item from the list based on its value\n",
        "arr.remove('three')\n",
        "print('\\nUsing Remove:', arr)\n",
        "\n",
        "# Remove a single item from the list based on its position (index)\n",
        "print('\\nElement at Position 1:', arr[1])\n",
        "del arr[1]\n",
        "print('Using Del:', arr)\n",
        "\n",
        "# Slice and reassign the sublist to the original variable\n",
        "arr = arr[1:4]\n",
        "print('\\nUsing Slicing:', arr)"
      ],
      "execution_count": 4,
      "outputs": [
        {
          "output_type": "stream",
          "text": [
            "Original: [0, 'one', 2, 'three', 3, 4]\n",
            "\n",
            "Using Pop: [0, 'one', 2, 'three', 3]\n",
            "Popped Element: 4\n",
            "\n",
            "Using Remove: [0, 'one', 2, 3]\n",
            "\n",
            "Element at Position 1: one\n",
            "Using Del: [0, 2, 3]\n",
            "\n",
            "Using Slicing: [2, 3]\n"
          ],
          "name": "stdout"
        }
      ]
    },
    {
      "cell_type": "markdown",
      "metadata": {
        "id": "WAmE3alm7vOC",
        "colab_type": "text"
      },
      "source": [
        "# Tuples"
      ]
    },
    {
      "cell_type": "markdown",
      "metadata": {
        "id": "hArR7oXAvcYl",
        "colab_type": "text"
      },
      "source": [
        "Tuples look and feel a lot like lists with one key difference, they are immutable - you can't change them once made. Tuples can do most of the same things as a list except for any of the functions that alter (add, remove, order, etc.)."
      ]
    },
    {
      "cell_type": "code",
      "metadata": {
        "id": "kfzpx0bl8AsM",
        "colab_type": "code",
        "outputId": "612d0b3b-6c87-43be-920c-a8e4fbbd1119",
        "colab": {
          "base_uri": "https://localhost:8080/",
          "height": 90
        }
      },
      "source": [
        "# Many of the same behaviors as lists\n",
        "tup = ()\n",
        "tup = tuple()\n",
        "print('Empty Tuple:', tup)\n",
        "\n",
        "tup = (0, 1, 'two', '3', [4, 'four'], (5, 'five'), True)\n",
        "print('Tuple with Multiple Objects/Datatypes and Nesting:', tup)\n",
        "\n",
        "print('Reference by Square Bracket Notation:', tup[2])\n",
        "\n",
        "print('Slicing a Tuple:', tup[1:5])"
      ],
      "execution_count": 0,
      "outputs": [
        {
          "output_type": "stream",
          "text": [
            "Empty Tuple: ()\n",
            "Tuple with Multiple Objects/Datatypes and Nesting: (0, 1, 'two', '3', [4, 'four'], (5, 'five'), True)\n",
            "Reference by Square Bracket Notation: two\n",
            "Slicing a Tuple: (1, 'two', '3', [4, 'four'])\n"
          ],
          "name": "stdout"
        }
      ]
    },
    {
      "cell_type": "code",
      "metadata": {
        "id": "Ly0gfWV79PEN",
        "colab_type": "code",
        "outputId": "e296eefb-6173-483b-a987-7ae3730d4ebe",
        "colab": {
          "base_uri": "https://localhost:8080/",
          "height": 172
        }
      },
      "source": [
        "# Tuples cannot be altered\n",
        "tup[3] = 3"
      ],
      "execution_count": 0,
      "outputs": [
        {
          "output_type": "error",
          "ename": "TypeError",
          "evalue": "ignored",
          "traceback": [
            "\u001b[0;31m---------------------------------------------------------------------------\u001b[0m",
            "\u001b[0;31mTypeError\u001b[0m                                 Traceback (most recent call last)",
            "\u001b[0;32m<ipython-input-25-9081a4d38917>\u001b[0m in \u001b[0;36m<module>\u001b[0;34m()\u001b[0m\n\u001b[0;32m----> 1\u001b[0;31m \u001b[0mtup\u001b[0m\u001b[0;34m[\u001b[0m\u001b[0;36m3\u001b[0m\u001b[0;34m]\u001b[0m \u001b[0;34m=\u001b[0m \u001b[0;36m3\u001b[0m\u001b[0;34m\u001b[0m\u001b[0;34m\u001b[0m\u001b[0m\n\u001b[0m",
            "\u001b[0;31mTypeError\u001b[0m: 'tuple' object does not support item assignment"
          ]
        }
      ]
    },
    {
      "cell_type": "code",
      "metadata": {
        "id": "edKKFgne9wxI",
        "colab_type": "code",
        "outputId": "d4fd0f8d-5a2a-4de3-ed6a-a5593aa2996b",
        "colab": {
          "base_uri": "https://localhost:8080/",
          "height": 35
        }
      },
      "source": [
        "# The immutability of tuples means copying is very straightforward\n",
        "tup2 = tup\n",
        "print(tup2)"
      ],
      "execution_count": 0,
      "outputs": [
        {
          "output_type": "stream",
          "text": [
            "(0, 1, 'two', '3', [4, 'four'], (5, 'five'), True)\n"
          ],
          "name": "stdout"
        }
      ]
    },
    {
      "cell_type": "markdown",
      "metadata": {
        "id": "zs3s_QwX_JM-",
        "colab_type": "text"
      },
      "source": [
        "## Tuples vs Lists\n",
        "- Tuples are faster than lists. If you’re defining a constant set of values and all you’re ever going to do with it is iterate through it, use a tuple instead of a list.\n",
        "- It makes your code safer if you “write-protect” data that doesn’t need to be changed. Using a tuple instead of a list is like having an implied assert statement that shows this data is constant, and that special thought (and a specific function) is required to override that.\n",
        "- Some tuples can be used as dictionary keys (specifically, tuples that contain immutable values like strings, numbers, and other tuples). Lists can never be used as dictionary keys, because lists are not immutable.\n",
        "-Tuples can be converted into lists, and vice-versa. The built-in tuple() function takes a list and returns a tuple with the same elements, and the list() function takes a tuple and returns a list. In effect, tuple() freezes a list, and list() thaws a tuple.\n",
        "\n",
        "[Source](https://diveintopython3.net/native-datatypes.html#tuples)\n"
      ]
    },
    {
      "cell_type": "markdown",
      "metadata": {
        "id": "YIeoosm9-1hs",
        "colab_type": "text"
      },
      "source": [
        "# List and Tuple Practice"
      ]
    },
    {
      "cell_type": "markdown",
      "metadata": {
        "id": "oMfNz0gbA-hn",
        "colab_type": "text"
      },
      "source": [
        "## Two Number Sum"
      ]
    },
    {
      "cell_type": "markdown",
      "metadata": {
        "id": "JMrbi9MyBBNw",
        "colab_type": "text"
      },
      "source": [
        "Write a function that takes in a non-empty array of distinct integers and an integer representing a target sum. If any two numbers in the input array sum up to the target sum, the function should return them in an array, in sorted order. If no two numbers sum up to the target sum, the function should return an empty array.\n",
        "\n",
        "Assume that there will be at most one pair of numbers summing up to the target sum.\n",
        "\n",
        "Sample input: [3,5,-4,8,11,1,-1,6], 10\n",
        "\n",
        "Sample output: [-1,11]"
      ]
    },
    {
      "cell_type": "code",
      "metadata": {
        "id": "Uu-ChqsbBB5B",
        "colab_type": "code",
        "colab": {}
      },
      "source": [
        ""
      ],
      "execution_count": 0,
      "outputs": []
    },
    {
      "cell_type": "markdown",
      "metadata": {
        "id": "Kse_QwGQ7rZS",
        "colab_type": "text"
      },
      "source": [
        "# Debug"
      ]
    },
    {
      "cell_type": "markdown",
      "metadata": {
        "id": "CPMH-hX0EAZE",
        "colab_type": "text"
      },
      "source": [
        "While the mutability of lists makes them extremely useful, it can also lead to hard to see or find bugs if you are a bit careless with them. Here are some common pitfalls and ways to avoid them:"
      ]
    },
    {
      "cell_type": "markdown",
      "metadata": {
        "id": "ufvhA2_vFZmZ",
        "colab_type": "text"
      },
      "source": [
        "1. Most `list` methods modify the argument and return `None`. This is the opposite of the `string` methods, which return a new string and leave the original alone. Because of this difference, it's best to test out methods "
      ]
    },
    {
      "cell_type": "code",
      "metadata": {
        "id": "JRc0jrOa-yYe",
        "colab_type": "code",
        "outputId": "f39a6c7f-1238-4147-e673-fb4e93fd801c",
        "colab": {
          "base_uri": "https://localhost:8080/",
          "height": 35
        }
      },
      "source": [
        "word = 'word '\n",
        "arr = [3, 1, 2]\n",
        "\n",
        "# You may be used to this from strings and other objects:\n",
        "word = word.strip()\n",
        "print(word)"
      ],
      "execution_count": 0,
      "outputs": [
        {
          "output_type": "stream",
          "text": [
            "word\n"
          ],
          "name": "stdout"
        }
      ]
    },
    {
      "cell_type": "code",
      "metadata": {
        "id": "YwciAEFHF7Ma",
        "colab_type": "code",
        "outputId": "97466fe8-4832-4088-82b1-eeb5bff8f6a5",
        "colab": {
          "base_uri": "https://localhost:8080/",
          "height": 35
        }
      },
      "source": [
        "# Because of the above, you may be tempted to write this:\n",
        "arr = arr.sort()\n",
        "# But you'll end up with nothing\n",
        "print(arr)"
      ],
      "execution_count": 0,
      "outputs": [
        {
          "output_type": "stream",
          "text": [
            "None\n"
          ],
          "name": "stdout"
        }
      ]
    },
    {
      "cell_type": "markdown",
      "metadata": {
        "id": "qqctHNnPGp1X",
        "colab_type": "text"
      },
      "source": [
        "Before using lists methods it is a good idea to test them out in an interactive environment and read the documentation so you know how they will behave when you are using the functions in your code."
      ]
    },
    {
      "cell_type": "markdown",
      "metadata": {
        "id": "p6vune0ExGBy",
        "colab_type": "text"
      },
      "source": [
        "2. Part of the problem with lists is that there are too many ways to do things. We saw these numerous options above with copying, adding, and removing. As you find multiple ways to do different things to a list, explore them and then choose the most useful or universal one to be your method of choice. Be aware of the others, there may be instances that you need them. Why pick just one method to default to? It makes your code more consistent which is always good, and it means you are more likely to avoid bugs because your familiarity will help you avoid the pitfalls of that method."
      ]
    },
    {
      "cell_type": "markdown",
      "metadata": {
        "id": "V1GcXrGyzXec",
        "colab_type": "text"
      },
      "source": [
        "There is no specific practice exercises for debugging this time. Instead, explore lists and the associated functions. Strive to understand how the various functions behave and how they break down. Get started by further exploring the functions above and then check out the [documentation](https://python-reference.readthedocs.io/en/latest/docs/list/) for more."
      ]
    },
    {
      "cell_type": "code",
      "metadata": {
        "id": "QoBCBpJoGX_X",
        "colab_type": "code",
        "colab": {}
      },
      "source": [
        ""
      ],
      "execution_count": 0,
      "outputs": []
    },
    {
      "cell_type": "markdown",
      "metadata": {
        "id": "Y_BspjYj013p",
        "colab_type": "text"
      },
      "source": [
        "# Further Exploration"
      ]
    },
    {
      "cell_type": "markdown",
      "metadata": {
        "id": "2X6Y73nI-DQX",
        "colab_type": "text"
      },
      "source": [
        "## Lists and Tuples - Common Ground"
      ]
    },
    {
      "cell_type": "markdown",
      "metadata": {
        "id": "znwF-uhONiV_",
        "colab_type": "text"
      },
      "source": [
        "### Nested Lists"
      ]
    },
    {
      "cell_type": "markdown",
      "metadata": {
        "id": "IBKZhPS_1aFy",
        "colab_type": "text"
      },
      "source": [
        "Sometimes you come across lists or tuples that are nested but a function you wrote, or want to use, breaks when you feed it a nested list. This can be fixed with the function below or similar ones you can find on stackoverflow."
      ]
    },
    {
      "cell_type": "code",
      "metadata": {
        "id": "EwriQBEIUfZS",
        "colab_type": "code",
        "outputId": "758accd7-124e-42ff-8927-e5f116c4c6b5",
        "colab": {
          "base_uri": "https://localhost:8080/",
          "height": 35
        }
      },
      "source": [
        "arr = [1, 2, 3, ['interior list', ['inner most list']], {5, 4}]\n",
        "arr"
      ],
      "execution_count": 5,
      "outputs": [
        {
          "output_type": "execute_result",
          "data": {
            "text/plain": [
              "[1, 2, 3, ['interior list', ['inner most list']], {4, 5}]"
            ]
          },
          "metadata": {
            "tags": []
          },
          "execution_count": 5
        }
      ]
    },
    {
      "cell_type": "code",
      "metadata": {
        "id": "juJ8M5QZU5mM",
        "colab_type": "code",
        "colab": {}
      },
      "source": [
        "def flatten(arr):\n",
        "    '''\n",
        "    \"Flatten\" a nested list down to a single layer\n",
        "\n",
        "    Input:\n",
        "    arr: A list\n",
        "\n",
        "    Output:\n",
        "    out: A list made of the values in nested list `arr`\n",
        "    '''\n",
        "    out = []\n",
        "    for item in arr:\n",
        "        if isinstance(item, (list, tuple, set)):\n",
        "            out.extend(flatten(item))\n",
        "        else:\n",
        "            out.append(item)\n",
        "    return out"
      ],
      "execution_count": 0,
      "outputs": []
    },
    {
      "cell_type": "code",
      "metadata": {
        "id": "lgElF6VvXY-i",
        "colab_type": "code",
        "outputId": "ba4cde4c-3615-4b20-9eef-4fc6a609fbf3",
        "colab": {
          "base_uri": "https://localhost:8080/",
          "height": 35
        }
      },
      "source": [
        "flatten(arr)"
      ],
      "execution_count": 7,
      "outputs": [
        {
          "output_type": "execute_result",
          "data": {
            "text/plain": [
              "[1, 2, 3, 'interior list', 'inner most list', 4, 5]"
            ]
          },
          "metadata": {
            "tags": []
          },
          "execution_count": 7
        }
      ]
    },
    {
      "cell_type": "markdown",
      "metadata": {
        "id": "o-MKJEzhL8dS",
        "colab_type": "text"
      },
      "source": [
        "### Conditional Statements"
      ]
    },
    {
      "cell_type": "markdown",
      "metadata": {
        "id": "UzEiI1oq2PdP",
        "colab_type": "text"
      },
      "source": [
        "Lists and tuples can be used in conditionals. An empty list or tuple evaluates to `False`, a list or tuple with any items in it evaluates to `True`."
      ]
    },
    {
      "cell_type": "code",
      "metadata": {
        "id": "M7MWaWKYT5RC",
        "colab_type": "code",
        "colab": {}
      },
      "source": [
        "def is_true(anything):\n",
        "  if anything:\n",
        "    print('True')\n",
        "  else:\n",
        "    print('False')"
      ],
      "execution_count": 0,
      "outputs": []
    },
    {
      "cell_type": "code",
      "metadata": {
        "id": "h5wxM46DUMoZ",
        "colab_type": "code",
        "outputId": "5fd69962-8fad-4569-afce-94ed45940eba",
        "colab": {
          "base_uri": "https://localhost:8080/",
          "height": 35
        }
      },
      "source": [
        "is_true([])"
      ],
      "execution_count": 0,
      "outputs": [
        {
          "output_type": "stream",
          "text": [
            "False\n"
          ],
          "name": "stdout"
        }
      ]
    },
    {
      "cell_type": "code",
      "metadata": {
        "id": "zjHkj8MtUMr6",
        "colab_type": "code",
        "outputId": "392b326f-5f64-4cc1-f267-9adb8221ab53",
        "colab": {
          "base_uri": "https://localhost:8080/",
          "height": 35
        }
      },
      "source": [
        "is_true([1,2,3])"
      ],
      "execution_count": 0,
      "outputs": [
        {
          "output_type": "stream",
          "text": [
            "True\n"
          ],
          "name": "stdout"
        }
      ]
    },
    {
      "cell_type": "code",
      "metadata": {
        "id": "GBzzYCH2UUTT",
        "colab_type": "code",
        "outputId": "846e1aa4-11a4-4042-fd7f-3871d249ec16",
        "colab": {
          "base_uri": "https://localhost:8080/",
          "height": 35
        }
      },
      "source": [
        "# A list or tuple with any item, including a boolean value of False, will always evaluate as True\n",
        "is_true([False])"
      ],
      "execution_count": 0,
      "outputs": [
        {
          "output_type": "stream",
          "text": [
            "True\n"
          ],
          "name": "stdout"
        }
      ]
    },
    {
      "cell_type": "markdown",
      "metadata": {
        "id": "tBOg5fgxNkO9",
        "colab_type": "text"
      },
      "source": [
        "### Unpacking"
      ]
    },
    {
      "cell_type": "markdown",
      "metadata": {
        "id": "4mWFnJIn3gS6",
        "colab_type": "text"
      },
      "source": [
        "Unpacking a list or tuple (usually a tuple) means assigning the individual items in the tuple to varaible"
      ]
    },
    {
      "cell_type": "code",
      "metadata": {
        "id": "inM01rIN2wR1",
        "colab_type": "code",
        "colab": {}
      },
      "source": [
        "arr = ['a', 'b', 'c']"
      ],
      "execution_count": 0,
      "outputs": []
    },
    {
      "cell_type": "code",
      "metadata": {
        "id": "PPtU5c-23Mtq",
        "colab_type": "code",
        "outputId": "d00f271d-8420-4d6c-e30c-ef90065bb51d",
        "colab": {
          "base_uri": "https://localhost:8080/",
          "height": 72
        }
      },
      "source": [
        "ele1, ele2, ele3 = arr\n",
        "\n",
        "print('Element 1:', ele1)\n",
        "print('Element 2:', ele2)\n",
        "print('Element 3:', ele3)"
      ],
      "execution_count": 11,
      "outputs": [
        {
          "output_type": "stream",
          "text": [
            "Element 1: a\n",
            "Element 2: b\n",
            "Element 3: c\n"
          ],
          "name": "stdout"
        }
      ]
    },
    {
      "cell_type": "markdown",
      "metadata": {
        "id": "AKaFNklM3yCb",
        "colab_type": "text"
      },
      "source": [
        "If we don't care about some the items in the list or tuple, we can use `_` to ignore those items."
      ]
    },
    {
      "cell_type": "code",
      "metadata": {
        "id": "EKiImI_R3O8f",
        "colab_type": "code",
        "outputId": "926aa08e-21a6-4abf-e800-457b5776cea8",
        "colab": {
          "base_uri": "https://localhost:8080/",
          "height": 35
        }
      },
      "source": [
        "_, ele2, _ = arr\n",
        "\n",
        "print('Element 2:', ele2)"
      ],
      "execution_count": 12,
      "outputs": [
        {
          "output_type": "stream",
          "text": [
            "Element 2: b\n"
          ],
          "name": "stdout"
        }
      ]
    },
    {
      "cell_type": "code",
      "metadata": {
        "id": "dNHV43AT3eAu",
        "colab_type": "code",
        "outputId": "4bec337f-d7e9-4cdf-fd44-8de0632daf3d",
        "colab": {
          "base_uri": "https://localhost:8080/",
          "height": 54
        }
      },
      "source": [
        "ele1, _, ele3 = arr\n",
        "\n",
        "print('Element 1:', ele1)\n",
        "print('Element 3:', ele3)"
      ],
      "execution_count": 0,
      "outputs": [
        {
          "output_type": "stream",
          "text": [
            "Element 1: a\n",
            "Element 3: c\n"
          ],
          "name": "stdout"
        }
      ]
    },
    {
      "cell_type": "markdown",
      "metadata": {
        "id": "fJQlg_s94WiI",
        "colab_type": "text"
      },
      "source": [
        "This method can become unwieldy as the list grows, luckily we can slap a `*` infront of one of our variables to multiple items at once."
      ]
    },
    {
      "cell_type": "code",
      "metadata": {
        "id": "L9cqhm_14J2h",
        "colab_type": "code",
        "outputId": "4ac586e9-e39e-4896-91e5-c3e5866acf9e",
        "colab": {
          "base_uri": "https://localhost:8080/",
          "height": 54
        }
      },
      "source": [
        "arr = ['a', 'b', 'c', 'd', 'e', 'f', 'g', 'h']\n",
        "\n",
        "# Ain't nobody got time for this\n",
        "ele1, ele2, _, _, _, _, _, ele8 = arr\n",
        "\n",
        "print('Element 1:', ele1)\n",
        "print('Element 8:', ele8)"
      ],
      "execution_count": 13,
      "outputs": [
        {
          "output_type": "stream",
          "text": [
            "Element 1: a\n",
            "Element 8: h\n"
          ],
          "name": "stdout"
        }
      ]
    },
    {
      "cell_type": "code",
      "metadata": {
        "id": "Xk-f1obT4m68",
        "colab_type": "code",
        "outputId": "143e689e-f050-4515-f6ba-b005c4a8c656",
        "colab": {
          "base_uri": "https://localhost:8080/",
          "height": 54
        }
      },
      "source": [
        "# Dumping all but the first two elements into an underscore to be ignored.\n",
        "ele1, ele2, *_ = arr\n",
        "\n",
        "print('Element 1:', ele1)\n",
        "print('Element 2:', ele2)"
      ],
      "execution_count": 19,
      "outputs": [
        {
          "output_type": "stream",
          "text": [
            "Element 1: a\n",
            "Element 2: b\n"
          ],
          "name": "stdout"
        }
      ]
    },
    {
      "cell_type": "code",
      "metadata": {
        "id": "4Owx8vPa44XM",
        "colab_type": "code",
        "outputId": "68821f65-e195-41ae-ab0b-204dec418965",
        "colab": {
          "base_uri": "https://localhost:8080/",
          "height": 72
        }
      },
      "source": [
        "# You can save elements at the start and end as well\n",
        "ele1, *_, ele7, ele8 = arr\n",
        "\n",
        "print('Element 1:', ele1)\n",
        "print('Element 7:', ele7)\n",
        "print('Element 8:', ele8)"
      ],
      "execution_count": 15,
      "outputs": [
        {
          "output_type": "stream",
          "text": [
            "Element 1: a\n",
            "Element 7: g\n",
            "Element 8: h\n"
          ],
          "name": "stdout"
        }
      ]
    },
    {
      "cell_type": "code",
      "metadata": {
        "id": "AbJeyQ3S42jG",
        "colab_type": "code",
        "colab": {
          "base_uri": "https://localhost:8080/",
          "height": 72
        },
        "outputId": "b7d5866f-77e5-405a-f591-acec3d15b0b6"
      },
      "source": [
        "# You don't have to use * just to discard, dump the other elements into a sublist\n",
        "ele1, *sublist, ele8 = arr\n",
        "\n",
        "print('Element 1:', ele1)\n",
        "print('Sublist:', sublist)\n",
        "print('Element 8:', ele8)"
      ],
      "execution_count": 18,
      "outputs": [
        {
          "output_type": "stream",
          "text": [
            "Element 1: a\n",
            "Sublist: ['b', 'c', 'd', 'e', 'f', 'g']\n",
            "Element 8: h\n"
          ],
          "name": "stdout"
        }
      ]
    },
    {
      "cell_type": "markdown",
      "metadata": {
        "id": "H-eJpV67BmUO",
        "colab_type": "text"
      },
      "source": [
        "## List vs Matrix vs Array"
      ]
    },
    {
      "cell_type": "markdown",
      "metadata": {
        "id": "2eLJkV-x6t61",
        "colab_type": "text"
      },
      "source": [
        "As you may be aware, Numpy adds two additional data types that are very similar to Lists (Array and Matrix), but you may not be aware how they differ. Below are two links to give you an idea of the major differences.\n",
        "\n",
        "[List vs Numpy Array](https://www.pythoncentral.io/the-difference-between-a-list-and-an-array/)\n",
        "\n",
        "[Numpy Array vs Numpy Matrix](https://stackoverflow.com/a/4151251)"
      ]
    },
    {
      "cell_type": "markdown",
      "metadata": {
        "id": "AOrs72jmASZV",
        "colab_type": "text"
      },
      "source": [
        "## Stack and Queue"
      ]
    },
    {
      "cell_type": "markdown",
      "metadata": {
        "id": "foLhIzAd6yE7",
        "colab_type": "text"
      },
      "source": [
        "Lists are commonly used as a stack or queue when solving code challenges or implementing certain algorithms. Below is just a brief overview of both, but I strongly recommend you understand and explore both more, they are both very useful and common in programming.\n",
        "<br/><br/>\n",
        "**Stack** - a linear data structure which follows a particular order in which the operations are performed. The order is commonly called LIFO(Last In First Out) or FILO(First In Last Out).\n",
        "\n",
        "There are many real-life examples of a stack (MtG fans should be familiar with the stack). Consider an example of plates stacked on top of one another. The plate which is at the top is the first one to be removed, i.e. the plate which has been placed at the bottom most position remains in the stack for the longest period of time. So, it can be simply seen to follow LIFO(Last In First Out)/FILO(First In Last Out) order.\n",
        "<br/><br/>\n",
        "**Queue** - a linear structure which follows a particular order in which the operations are performed. The order is First In First Out (FIFO). A good example of a queue is any queue/line, the first person in the line is the first person out of it (No CUTS!). \n",
        "<br/><br/>\n",
        "The difference between stacks and queues is in removing. In a stack we remove the item the most recently added; in a queue, we remove the item first added."
      ]
    },
    {
      "cell_type": "markdown",
      "metadata": {
        "id": "hPt-MR4w9VpY",
        "colab_type": "text"
      },
      "source": [
        "## Resources"
      ]
    },
    {
      "cell_type": "markdown",
      "metadata": {
        "id": "JrTA7fKY9YDi",
        "colab_type": "text"
      },
      "source": [
        "[List Documentation](https://python-reference.readthedocs.io/en/latest/docs/list/)\n",
        "\n",
        "[Tuple Documentation](https://python-reference.readthedocs.io/en/latest/docs/tuple/index.html)\n",
        "\n",
        "[\"Dive into Python\" on Native Datatypes](https://diveintopython3.net/native-datatypes.html#lists)\n",
        "\n",
        "[Video Tutorial on lists, tuples, and sets](https://www.youtube.com/watch?v=W8KRzm-HUcc)"
      ]
    }
  ]
}